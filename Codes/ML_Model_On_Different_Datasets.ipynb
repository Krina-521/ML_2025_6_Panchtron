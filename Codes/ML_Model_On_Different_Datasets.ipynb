{
  "cells": [
    {
      "cell_type": "code",
      "execution_count": 1,
      "metadata": {
        "colab": {
          "base_uri": "https://localhost:8080/"
        },
        "id": "kqRX7qn0OhSr",
        "outputId": "8a522388-660b-43f5-893e-6c99a8839121"
      },
      "outputs": [
        {
          "name": "stdout",
          "output_type": "stream",
          "text": [
            "Mounted at /content/drive\n"
          ]
        }
      ],
      "source": [
        "from google.colab import drive\n",
        "drive.mount('/content/drive')"
      ]
    },
    {
      "cell_type": "markdown",
      "metadata": {
        "id": "0v_qGOmwOZM9"
      },
      "source": [
        "# Imputed Datasets"
      ]
    },
    {
      "cell_type": "code",
      "execution_count": 2,
      "metadata": {
        "id": "joCuE3rlVPld"
      },
      "outputs": [],
      "source": [
        "import pandas as pd\n",
        "import numpy as np\n",
        "import matplotlib.pyplot as plt\n",
        "import seaborn as sns"
      ]
    },
    {
      "cell_type": "code",
      "execution_count": 3,
      "metadata": {
        "colab": {
          "base_uri": "https://localhost:8080/"
        },
        "id": "51JZFSsNSSIc",
        "outputId": "8d1a4920-2dd6-4a6f-fd87-a31b58533e5c"
      },
      "outputs": [
        {
          "name": "stdout",
          "output_type": "stream",
          "text": [
            "{'knn_imputed': '/content/drive/MyDrive/ML_Project_Dataset/Imputed_Datasets/knn_imputed.csv', 'imputed_interpolate': '/content/drive/MyDrive/ML_Project_Dataset/Imputed_Datasets/imputed_interpolate.csv', 'imputed_MICE': '/content/drive/MyDrive/ML_Project_Dataset/Imputed_Datasets/imputed_MICE.csv', 'mean_athlete_dataset': '/content/drive/MyDrive/ML_Project_Dataset/Imputed_Datasets/mean_athlete_dataset.csv', 'mode_athlete_dataset': '/content/drive/MyDrive/ML_Project_Dataset/Imputed_Datasets/mode_athlete_dataset.csv', 'median_athlete_dataset': '/content/drive/MyDrive/ML_Project_Dataset/Imputed_Datasets/median_athlete_dataset.csv', 'em_imputed': '/content/drive/MyDrive/ML_Project_Dataset/Imputed_Datasets/em_imputed.csv'}\n",
            "/content/drive/MyDrive/ML_Project_Dataset/Imputed_Datasets/knn_imputed.csv \n",
            "\n",
            "/content/drive/MyDrive/ML_Project_Dataset/Imputed_Datasets/imputed_interpolate.csv \n",
            "\n",
            "/content/drive/MyDrive/ML_Project_Dataset/Imputed_Datasets/imputed_MICE.csv \n",
            "\n",
            "/content/drive/MyDrive/ML_Project_Dataset/Imputed_Datasets/mean_athlete_dataset.csv \n",
            "\n",
            "/content/drive/MyDrive/ML_Project_Dataset/Imputed_Datasets/mode_athlete_dataset.csv \n",
            "\n",
            "/content/drive/MyDrive/ML_Project_Dataset/Imputed_Datasets/median_athlete_dataset.csv \n",
            "\n",
            "/content/drive/MyDrive/ML_Project_Dataset/Imputed_Datasets/em_imputed.csv \n",
            "\n"
          ]
        }
      ],
      "source": [
        "import os\n",
        "import glob\n",
        "\n",
        "# Set the folder path\n",
        "folder_path = \"/content/drive/MyDrive/ML_Project_Dataset/Imputed_Datasets\"\n",
        "\n",
        "# Get all CSV files in the folder\n",
        "csv_files = glob.glob(os.path.join(folder_path, \"*.csv\"))\n",
        "\n",
        "# Print the list of CSV files\n",
        "# print(f\"Found CSV files: \\n\", csv_files, \"\\n\")\n",
        "\n",
        "# Create a dictionary with filenames as keys and their paths as values\n",
        "file_dict = {os.path.splitext(os.path.basename(file))[0]: file for file in csv_files}\n",
        "\n",
        "# Print the dictionary\n",
        "print(file_dict)\n",
        "\n",
        "for file in csv_files:\n",
        "  print(f\"{file} \\n\")"
      ]
    },
    {
      "cell_type": "markdown",
      "metadata": {
        "id": "9tFT8qhPN7Nw"
      },
      "source": [
        "# Correlation Map"
      ]
    },
    {
      "cell_type": "code",
      "execution_count": null,
      "metadata": {
        "colab": {
          "base_uri": "https://localhost:8080/"
        },
        "id": "sYHARerFKEuK",
        "outputId": "8a563a08-fac0-446e-fba9-6b5deb31ef83"
      },
      "outputs": [
        {
          "name": "stdout",
          "output_type": "stream",
          "text": [
            "\n",
            "Processing Dataset: /content/drive/MyDrive/ML_Project_Dataset/Imputed_Datasets/knn_imputed.csv\n",
            "Saved heatmap: /content/drive/MyDrive/ML_Project_Dataset/Correlation_Heatmaps/knn_imputed_correlation_heatmap.png\n",
            "\n",
            "Processing Dataset: /content/drive/MyDrive/ML_Project_Dataset/Imputed_Datasets/imputed_interpolate.csv\n",
            "Saved heatmap: /content/drive/MyDrive/ML_Project_Dataset/Correlation_Heatmaps/imputed_interpolate_correlation_heatmap.png\n",
            "\n",
            "Processing Dataset: /content/drive/MyDrive/ML_Project_Dataset/Imputed_Datasets/imputed_MICE.csv\n",
            "Saved heatmap: /content/drive/MyDrive/ML_Project_Dataset/Correlation_Heatmaps/imputed_MICE_correlation_heatmap.png\n",
            "\n",
            "Processing Dataset: /content/drive/MyDrive/ML_Project_Dataset/Imputed_Datasets/mean_athlete_dataset.csv\n",
            "Saved heatmap: /content/drive/MyDrive/ML_Project_Dataset/Correlation_Heatmaps/mean_athlete_dataset_correlation_heatmap.png\n",
            "\n",
            "Processing Dataset: /content/drive/MyDrive/ML_Project_Dataset/Imputed_Datasets/mode_athlete_dataset.csv\n",
            "Saved heatmap: /content/drive/MyDrive/ML_Project_Dataset/Correlation_Heatmaps/mode_athlete_dataset_correlation_heatmap.png\n",
            "\n",
            "Processing Dataset: /content/drive/MyDrive/ML_Project_Dataset/Imputed_Datasets/median_athlete_dataset.csv\n",
            "Saved heatmap: /content/drive/MyDrive/ML_Project_Dataset/Correlation_Heatmaps/median_athlete_dataset_correlation_heatmap.png\n",
            "\n",
            "Processing Dataset: /content/drive/MyDrive/ML_Project_Dataset/Imputed_Datasets/em_imputed.csv\n",
            "Saved heatmap: /content/drive/MyDrive/ML_Project_Dataset/Correlation_Heatmaps/em_imputed_correlation_heatmap.png\n"
          ]
        }
      ],
      "source": [
        "import seaborn as sns\n",
        "import matplotlib.pyplot as plt\n",
        "\n",
        "# Define the directory to save heatmaps\n",
        "heatmap_save_dir = \"/content/drive/MyDrive/ML_Project_Dataset/Correlation_Heatmaps\"\n",
        "os.makedirs(heatmap_save_dir, exist_ok=True)  # Ensure the directory exists\n",
        "\n",
        "# Reload the imputed dataset\n",
        "for file in csv_files:\n",
        "  print(f\"\\nProcessing Dataset: {file}\")\n",
        "  df_imputed = pd.read_csv(file)\n",
        "\n",
        "  # Check correlation of sleep and recovery features with RSImod\n",
        "  sleep_recovery_features = [\n",
        "      \"RHR\", \"HRV\", \"Recovery\", \"Sleep.Score\", \"Hours.in.Bed\", \"Hours.of.Sleep\",\n",
        "      \"Sleep.Efficiency....\", \"Wake.Periods\", \"Sleep.Disturbances\", \"Latency..min.\",\n",
        "      \"Cycles\", \"REM.Sleep..hours.\", \"Deep.Sleep..hours.\", \"Light.Sleep..hours.\",\n",
        "      \"Awake..hours.\", \"Sleep.Debt..hours.\", \"Sleep.Consistency\", \"Respiratory.Rate\",\n",
        "      \"Total.Cycle.Sleep.Time..hours.\", \"REM.Percentage\", \"Deep.Sleep.Percentage\",\n",
        "      \"Restorative.Sleep..hours.\", \"Restorative.Sleep....\"\n",
        "  ]\n",
        "\n",
        "  # Compute correlation with RSImod\n",
        "  correlation_values = df_imputed[sleep_recovery_features + [\"RSI\"]].corr()[\"RSI\"].sort_values(ascending=False)\n",
        "\n",
        "  # Plot correlation heatmap\n",
        "  for filename, filepath in file_dict.items():\n",
        "    if filename in file:\n",
        "      plt.figure(figsize=(20, 10))\n",
        "      sns.heatmap(df_imputed[sleep_recovery_features + [\"RSI\"]].corr(), annot=True, cmap=\"coolwarm\", fmt=\".2f\")\n",
        "      plt.title(f\"Correlation Heatmap of Sleep & Recovery Features with RSImod: {filename}\")\n",
        "      # plt.show()\n",
        "      # Save the figure\n",
        "      save_path = os.path.join(heatmap_save_dir, f\"{filename}_correlation_heatmap.png\")\n",
        "      plt.savefig(save_path, bbox_inches=\"tight\", dpi=300)\n",
        "      plt.close()  # Close the plot to free memory\n",
        "\n",
        "      print(f\"Saved heatmap: {save_path}\")\n"
      ]
    },
    {
      "cell_type": "code",
      "execution_count": 4,
      "metadata": {
        "colab": {
          "base_uri": "https://localhost:8080/"
        },
        "id": "UbZzD5_sBAbA",
        "outputId": "a51261e1-40dc-4d1f-90af-a8515a31e8a4"
      },
      "outputs": [
        {
          "name": "stdout",
          "output_type": "stream",
          "text": [
            "0\n"
          ]
        }
      ],
      "source": [
        "original_dataset = pd.read_csv(\"/content/drive/MyDrive/ML_Project_Dataset/Given_Dataset/Athlete_Readiness.csv\")\n",
        "original_dataset.fillna(0, inplace=True)\n",
        "print(original_dataset.isna().sum().sum())"
      ]
    },
    {
      "cell_type": "markdown",
      "metadata": {
        "id": "e0IVIaxZMvJ1"
      },
      "source": [
        "# 3rd Milestone: Train a model to predict the RSImod based on the sleep and recovery features."
      ]
    },
    {
      "cell_type": "markdown",
      "metadata": {
        "id": "S0XKSxesM3Ms"
      },
      "source": [
        "Models to Try:\n",
        "\n",
        "✅ Linear Regression (Baseline model)\n",
        "\n",
        "✅ Ridge & Lasso Regression (Regularized models)\n",
        "\n",
        "✅ Random Forest Regressor (Non-linear, tree-based model)\n",
        "\n",
        "✅ Gradient Boosting (XGBoost, LightGBM) (Powerful boosting models)\n",
        "\n",
        "✅ Support Vector Regression (SVR) (For complex relationships)\n",
        "\n",
        "Evaluation Metrics:\n",
        "- Mean Absolute Error (MAE)\n",
        "- Root Mean Squared Error (RMSE)\n",
        "- R² Score (Explained Variance)"
      ]
    },
    {
      "cell_type": "markdown",
      "metadata": {
        "id": "yXtGoBfZbOnZ"
      },
      "source": [
        "## Spliting the datasets in train and test"
      ]
    },
    {
      "cell_type": "code",
      "execution_count": 6,
      "metadata": {
        "colab": {
          "base_uri": "https://localhost:8080/"
        },
        "id": "9fPDQuKyj4Ru",
        "outputId": "35dfc418-194c-4fbe-ee35-f5365c51c61b"
      },
      "outputs": [
        {
          "name": "stdout",
          "output_type": "stream",
          "text": [
            "\n",
            "Processing Dataset: /content/drive/MyDrive/ML_Project_Dataset/Imputed_Datasets/knn_imputed.csv\n",
            "knn_imputed: X_train: (2488, 23), X_test: (623, 23), y_train: (2488,), y_test: (623,)\n",
            "\n",
            "Processing Dataset: /content/drive/MyDrive/ML_Project_Dataset/Imputed_Datasets/imputed_interpolate.csv\n",
            "imputed_interpolate: X_train: (2488, 23), X_test: (623, 23), y_train: (2488,), y_test: (623,)\n",
            "\n",
            "Processing Dataset: /content/drive/MyDrive/ML_Project_Dataset/Imputed_Datasets/imputed_MICE.csv\n",
            "imputed_MICE: X_train: (2488, 23), X_test: (623, 23), y_train: (2488,), y_test: (623,)\n",
            "\n",
            "Processing Dataset: /content/drive/MyDrive/ML_Project_Dataset/Imputed_Datasets/mean_athlete_dataset.csv\n",
            "mean_athlete_dataset: X_train: (2488, 23), X_test: (623, 23), y_train: (2488,), y_test: (623,)\n",
            "\n",
            "Processing Dataset: /content/drive/MyDrive/ML_Project_Dataset/Imputed_Datasets/mode_athlete_dataset.csv\n",
            "mode_athlete_dataset: X_train: (2488, 23), X_test: (623, 23), y_train: (2488,), y_test: (623,)\n",
            "\n",
            "Processing Dataset: /content/drive/MyDrive/ML_Project_Dataset/Imputed_Datasets/median_athlete_dataset.csv\n",
            "median_athlete_dataset: X_train: (2488, 23), X_test: (623, 23), y_train: (2488,), y_test: (623,)\n",
            "\n",
            "Processing Dataset: /content/drive/MyDrive/ML_Project_Dataset/Imputed_Datasets/em_imputed.csv\n",
            "em_imputed: X_train: (2488, 23), X_test: (623, 23), y_train: (2488,), y_test: (623,)\n"
          ]
        }
      ],
      "source": [
        "import pandas as pd\n",
        "from sklearn.model_selection import train_test_split\n",
        "from sklearn.preprocessing import StandardScaler\n",
        "\n",
        "# Define target variable and features\n",
        "target = \"RSI\"\n",
        "features = sleep_recovery_features\n",
        "\n",
        "# Dictionary to store processed datasets\n",
        "processed_datasets = {}\n",
        "\n",
        "# Loop through all imputed datasets\n",
        "for file in csv_files:\n",
        "    print(f\"\\nProcessing Dataset: {file}\")\n",
        "\n",
        "    # Load dataset\n",
        "    df = pd.read_csv(file)\n",
        "\n",
        "    # Ensure all features are numeric\n",
        "    df[features] = df[features].apply(pd.to_numeric, errors=\"coerce\")\n",
        "\n",
        "    # Drop rows with NaN values\n",
        "    df_cleaned = df.dropna(subset=features + [target])\n",
        "\n",
        "    # Split data into training and testing sets\n",
        "    X = df_cleaned[features]\n",
        "    y = df_cleaned[target]\n",
        "    X_train, X_test, y_train, y_test = train_test_split(X, y, test_size=0.2, random_state=42)\n",
        "\n",
        "    # Standardize features\n",
        "    scaler = StandardScaler()\n",
        "    X_train_scaled = scaler.fit_transform(X_train)\n",
        "    X_test_scaled = scaler.transform(X_test)\n",
        "\n",
        "    # Store processed data in a dictionary with the filename as key\n",
        "    filename = file.split(\"/\")[-1].replace(\".csv\", \"\")  # Extract filename without extension\n",
        "    processed_datasets[filename] = {\n",
        "        \"X_train\": X_train_scaled,\n",
        "        \"X_test\": X_test_scaled,\n",
        "        \"y_train\": y_train,\n",
        "        \"y_test\": y_test\n",
        "    }\n",
        "\n",
        "    # Display dataset shape after preprocessing\n",
        "    print(f\"{filename}: X_train: {X_train.shape}, X_test: {X_test.shape}, y_train: {y_train.shape}, y_test: {y_test.shape}\")\n"
      ]
    },
    {
      "cell_type": "markdown",
      "metadata": {
        "id": "gAvBG5LEPIjw"
      },
      "source": [
        "Here, 2488 training samples and 623 test samples, as we divided the dataset into 80-20.\n",
        "\n",
        "There are 23 sleep and recovery features"
      ]
    },
    {
      "cell_type": "markdown",
      "metadata": {
        "id": "H6LDPYXMQs-f"
      },
      "source": [
        "# Linear Regression"
      ]
    },
    {
      "cell_type": "code",
      "execution_count": 9,
      "metadata": {
        "colab": {
          "base_uri": "https://localhost:8080/"
        },
        "id": "XnPhKXWU7cMA",
        "outputId": "803e1132-7633-45b2-adab-e31aba05f099"
      },
      "outputs": [
        {
          "name": "stdout",
          "output_type": "stream",
          "text": [
            "\n",
            "Training Linear Regression on knn_imputed...\n",
            "Linear Regression Metrics for knn_imputed:\n",
            "MAE: 0.0203, RMSE: 0.0010, R2 Score: 0.1670\n",
            "\n",
            "Training Linear Regression on imputed_interpolate...\n",
            "Linear Regression Metrics for imputed_interpolate:\n",
            "MAE: 0.0758, RMSE: 0.0119, R2 Score: 0.0398\n",
            "\n",
            "Training Linear Regression on imputed_MICE...\n",
            "Linear Regression Metrics for imputed_MICE:\n",
            "MAE: 0.0029, RMSE: 0.0002, R2 Score: 0.8987\n",
            "\n",
            "Training Linear Regression on mean_athlete_dataset...\n",
            "Linear Regression Metrics for mean_athlete_dataset:\n",
            "MAE: 0.0046, RMSE: 0.0003, R2 Score: -0.0113\n",
            "\n",
            "Training Linear Regression on mode_athlete_dataset...\n",
            "Linear Regression Metrics for mode_athlete_dataset:\n",
            "MAE: 0.0049, RMSE: 0.0003, R2 Score: -0.0115\n",
            "\n",
            "Training Linear Regression on median_athlete_dataset...\n",
            "Linear Regression Metrics for median_athlete_dataset:\n",
            "MAE: 0.0046, RMSE: 0.0003, R2 Score: -0.0123\n",
            "\n",
            "Training Linear Regression on em_imputed...\n",
            "Linear Regression Metrics for em_imputed:\n",
            "MAE: 0.0039, RMSE: 0.0003, R2 Score: 0.6851\n"
          ]
        },
        {
          "data": {
            "text/plain": [
              "{'knn_imputed': {'MAE': 0.02033317717175117,\n",
              "  'RMSE': 0.0009912561896791004,\n",
              "  'R2 Score': 0.16703867651265525},\n",
              " 'imputed_interpolate': {'MAE': 0.0758168195380407,\n",
              "  'RMSE': 0.011901032917659777,\n",
              "  'R2 Score': 0.03981530427094149},\n",
              " 'imputed_MICE': {'MAE': 0.0028657885880954454,\n",
              "  'RMSE': 0.00015821449618127017,\n",
              "  'R2 Score': 0.8986727776897934},\n",
              " 'mean_athlete_dataset': {'MAE': 0.004573459493478008,\n",
              "  'RMSE': 0.0002911353374856357,\n",
              "  'R2 Score': -0.01126358743536593},\n",
              " 'mode_athlete_dataset': {'MAE': 0.004878518566614552,\n",
              "  'RMSE': 0.0003350827633509721,\n",
              "  'R2 Score': -0.011452059347357713},\n",
              " 'median_athlete_dataset': {'MAE': 0.004632619139632403,\n",
              "  'RMSE': 0.00031986164505049257,\n",
              "  'R2 Score': -0.012304698904240352},\n",
              " 'em_imputed': {'MAE': 0.0039007248143752785,\n",
              "  'RMSE': 0.00028797360834855525,\n",
              "  'R2 Score': 0.6850619256241053}}"
            ]
          },
          "execution_count": 9,
          "metadata": {},
          "output_type": "execute_result"
        }
      ],
      "source": [
        "from sklearn.linear_model import LinearRegression\n",
        "from sklearn.metrics import mean_absolute_error, mean_squared_error, r2_score\n",
        "\n",
        "# Dictionary to store evaluation metrics\n",
        "linear_model_metrics = {}\n",
        "\n",
        "# Loop through all processed datasets\n",
        "for filename, data in processed_datasets.items():\n",
        "    print(f\"\\nTraining Linear Regression on {filename}...\")\n",
        "\n",
        "    # Extract train and test data\n",
        "    X_train_scaled = data[\"X_train\"]\n",
        "    X_test_scaled = data[\"X_test\"]\n",
        "    y_train = data[\"y_train\"]\n",
        "    y_test = data[\"y_test\"]\n",
        "\n",
        "    # Train Linear Regression model\n",
        "    lr_model = LinearRegression()\n",
        "    lr_model.fit(X_train_scaled, y_train)\n",
        "\n",
        "    # Predict on test set\n",
        "    y_pred_lr = lr_model.predict(X_test_scaled)\n",
        "\n",
        "    # Evaluate model performance\n",
        "    mae_lr = mean_absolute_error(y_test, y_pred_lr)\n",
        "    rmse_lr = mean_squared_error(y_test, y_pred_lr)  # RMSE (squared=False for root mean)\n",
        "    r2_lr = r2_score(y_test, y_pred_lr)\n",
        "\n",
        "    # Store metrics in dictionary\n",
        "    linear_model_metrics[filename] = {\n",
        "        \"MAE\": mae_lr,\n",
        "        \"RMSE\": rmse_lr,\n",
        "        \"R2 Score\": r2_lr\n",
        "    }\n",
        "\n",
        "    # Print metrics for each dataset\n",
        "    print(f\"Linear Regression Metrics for {filename}:\")\n",
        "    print(f\"MAE: {mae_lr:.4f}, RMSE: {rmse_lr:.4f}, R2 Score: {r2_lr:.4f}\")\n",
        "\n",
        "# Display all model metrics\n",
        "linear_model_metrics\n"
      ]
    },
    {
      "cell_type": "code",
      "execution_count": 10,
      "metadata": {
        "colab": {
          "base_uri": "https://localhost:8080/"
        },
        "id": "wHsz2__4MSAf",
        "outputId": "a8b8015e-1dd1-4428-87b1-ced0a419ea86"
      },
      "outputs": [
        {
          "name": "stdout",
          "output_type": "stream",
          "text": [
            "                             MAE      RMSE  R2 Score\n",
            "knn_imputed             0.020333  0.000991  0.167039\n",
            "imputed_interpolate     0.075817  0.011901  0.039815\n",
            "imputed_MICE            0.002866  0.000158  0.898673\n",
            "mean_athlete_dataset    0.004573  0.000291 -0.011264\n",
            "mode_athlete_dataset    0.004879  0.000335 -0.011452\n",
            "median_athlete_dataset  0.004633  0.000320 -0.012305\n",
            "em_imputed              0.003901  0.000288  0.685062\n"
          ]
        }
      ],
      "source": [
        "import pandas as pd\n",
        "\n",
        "# Assuming linear_model_metrics is a dictionary with model names as keys and their metric values\n",
        "df_metrics = pd.DataFrame.from_dict(linear_model_metrics, orient=\"index\", columns=[\"MAE\", \"RMSE\", \"R2 Score\"])\n",
        "\n",
        "# Display the table\n",
        "print(df_metrics)\n"
      ]
    },
    {
      "cell_type": "code",
      "execution_count": 21,
      "metadata": {
        "colab": {
          "base_uri": "https://localhost:8080/"
        },
        "id": "4qgrupSWMUjl",
        "outputId": "33af2b26-f46a-49cf-f5aa-5fce83bef470"
      },
      "outputs": [
        {
          "name": "stdout",
          "output_type": "stream",
          "text": [
            "Linear Regression Model Metrics: \n",
            "+------------------------+-----------------------+------------------------+-----------------------+\n",
            "|        Dataset         |          MAE          |          RMSE          |        R2 Score       |\n",
            "+------------------------+-----------------------+------------------------+-----------------------+\n",
            "|      knn_imputed       |  0.02033317717175117  | 0.0009912561896791004  |  0.16703867651265525  |\n",
            "|  imputed_interpolate   |   0.0758168195380407  |  0.011901032917659777  |  0.03981530427094149  |\n",
            "|      imputed_MICE      | 0.0028657885880954454 | 0.00015821449618127017 |   0.8986727776897934  |\n",
            "|  mean_athlete_dataset  |  0.004573459493478008 | 0.0002911353374856357  |  -0.01126358743536593 |\n",
            "|  mode_athlete_dataset  |  0.004878518566614552 | 0.0003350827633509721  | -0.011452059347357713 |\n",
            "| median_athlete_dataset |  0.004632619139632403 | 0.00031986164505049257 | -0.012304698904240352 |\n",
            "|       em_imputed       | 0.0039007248143752785 | 0.00028797360834855525 |   0.6850619256241053  |\n",
            "+------------------------+-----------------------+------------------------+-----------------------+\n"
          ]
        }
      ],
      "source": [
        "from prettytable import PrettyTable\n",
        "\n",
        "# Create a PrettyTable object\n",
        "table = PrettyTable()\n",
        "table.field_names = [\"Dataset\", \"MAE\", \"RMSE\", \"R2 Score\"]\n",
        "\n",
        "# Loop through dictionary and add rows\n",
        "for dataset, metrics in linear_model_metrics.items():\n",
        "    table.add_row([dataset, metrics[\"MAE\"], metrics[\"RMSE\"], metrics[\"R2 Score\"]])\n",
        "\n",
        "# Print the table\n",
        "print(\"Linear Regression Model Metrics: \")\n",
        "print(table)\n"
      ]
    },
    {
      "cell_type": "markdown",
      "metadata": {
        "id": "LrkI_VNtShD5"
      },
      "source": [
        "As $R^2$ score is low in Linear Regression, which indicates it poor fit"
      ]
    },
    {
      "cell_type": "markdown",
      "metadata": {
        "id": "bfqtf4QPTd8-"
      },
      "source": [
        "# Ridge and Lasso Regression"
      ]
    },
    {
      "cell_type": "code",
      "execution_count": 18,
      "metadata": {
        "colab": {
          "base_uri": "https://localhost:8080/"
        },
        "id": "YP-NRbmcNnMN",
        "outputId": "16ce1f5e-9319-4edf-a1e7-7a9458ba3786"
      },
      "outputs": [
        {
          "name": "stdout",
          "output_type": "stream",
          "text": [
            "\n",
            "Training Linear Regression on knn_imputed...\n",
            "\n",
            "Training Linear Regression on imputed_interpolate...\n",
            "\n",
            "Training Linear Regression on imputed_MICE...\n",
            "\n",
            "Training Linear Regression on mean_athlete_dataset...\n",
            "\n",
            "Training Linear Regression on mode_athlete_dataset...\n",
            "\n",
            "Training Linear Regression on median_athlete_dataset...\n",
            "\n",
            "Training Linear Regression on em_imputed...\n",
            "\n",
            "Dataset: knn_imputed\n",
            "Ridge Regression - MAE: 0.0204, RMSE: 0.0010, R2 Score: 0.1655\n",
            "Lasso Regression - MAE: 0.0215, RMSE: 0.0012, R2 Score: 0.0296\n",
            "\n",
            "Dataset: imputed_interpolate\n",
            "Ridge Regression - MAE: 0.0757, RMSE: 0.0119, R2 Score: 0.0400\n",
            "Lasso Regression - MAE: 0.0753, RMSE: 0.0124, R2 Score: 0.0030\n",
            "\n",
            "Dataset: imputed_MICE\n",
            "Ridge Regression - MAE: 0.0028, RMSE: 0.0002, R2 Score: 0.8983\n",
            "Lasso Regression - MAE: 0.0190, RMSE: 0.0009, R2 Score: 0.4115\n",
            "\n",
            "Dataset: mean_athlete_dataset\n",
            "Ridge Regression - MAE: 0.0045, RMSE: 0.0003, R2 Score: -0.0116\n",
            "Lasso Regression - MAE: 0.0031, RMSE: 0.0003, R2 Score: -0.0036\n",
            "\n",
            "Dataset: mode_athlete_dataset\n",
            "Ridge Regression - MAE: 0.0049, RMSE: 0.0003, R2 Score: -0.0113\n",
            "Lasso Regression - MAE: 0.0039, RMSE: 0.0003, R2 Score: -0.0022\n",
            "\n",
            "Dataset: median_athlete_dataset\n",
            "Ridge Regression - MAE: 0.0046, RMSE: 0.0003, R2 Score: -0.0119\n",
            "Lasso Regression - MAE: 0.0035, RMSE: 0.0003, R2 Score: -0.0026\n",
            "\n",
            "Dataset: em_imputed\n",
            "Ridge Regression - MAE: 0.0039, RMSE: 0.0003, R2 Score: 0.6842\n",
            "Lasso Regression - MAE: 0.0112, RMSE: 0.0005, R2 Score: 0.4998\n"
          ]
        },
        {
          "data": {
            "text/plain": [
              "{'knn_imputed': {'Ridge': {'MAE': 0.020357037417470462,\n",
              "   'RMSE': 0.0009931044238355165,\n",
              "   'R2 Score': 0.1654855890413517},\n",
              "  'Lasso': {'MAE': 0.021478412902409268,\n",
              "   'RMSE': 0.0011548628993762401,\n",
              "   'R2 Score': 0.029558514613382103}},\n",
              " 'imputed_interpolate': {'Ridge': {'MAE': 0.07565226151790168,\n",
              "   'RMSE': 0.0118987852105191,\n",
              "   'R2 Score': 0.0399966510508295},\n",
              "  'Lasso': {'MAE': 0.07525702465722155,\n",
              "   'RMSE': 0.012357174149054557,\n",
              "   'R2 Score': 0.0030134709757523304}},\n",
              " 'imputed_MICE': {'Ridge': {'MAE': 0.0027795425573618644,\n",
              "   'RMSE': 0.0001587748133312064,\n",
              "   'R2 Score': 0.898313927004261},\n",
              "  'Lasso': {'MAE': 0.019028595740922957,\n",
              "   'RMSE': 0.0009189155201095371,\n",
              "   'R2 Score': 0.41148782546601503}},\n",
              " 'mean_athlete_dataset': {'Ridge': {'MAE': 0.0044928647248737835,\n",
              "   'RMSE': 0.0002912367619557542,\n",
              "   'R2 Score': -0.01161588707165051},\n",
              "  'Lasso': {'MAE': 0.0030659654302126623,\n",
              "   'RMSE': 0.0002889224469720066,\n",
              "   'R2 Score': -0.003577074287422377}},\n",
              " 'mode_athlete_dataset': {'Ridge': {'MAE': 0.004879022957779792,\n",
              "   'RMSE': 0.0003350252682604101,\n",
              "   'R2 Score': -0.011278509603498188},\n",
              "  'Lasso': {'MAE': 0.003894191315747319,\n",
              "   'RMSE': 0.0003320307221453998,\n",
              "   'R2 Score': -0.0022394298115444577}},\n",
              " 'median_athlete_dataset': {'Ridge': {'MAE': 0.004649090170315404,\n",
              "   'RMSE': 0.0003197426865378657,\n",
              "   'R2 Score': -0.011928216562045568},\n",
              "  'Lasso': {'MAE': 0.003535213003153527,\n",
              "   'RMSE': 0.00031679083387634255,\n",
              "   'R2 Score': -0.002586132676804631}},\n",
              " 'em_imputed': {'Ridge': {'MAE': 0.0038544742084191254,\n",
              "   'RMSE': 0.00028876580810258237,\n",
              "   'R2 Score': 0.6841955480887292},\n",
              "  'Lasso': {'MAE': 0.011200873553234033,\n",
              "   'RMSE': 0.00045739510082255834,\n",
              "   'R2 Score': 0.49977661804456297}}}"
            ]
          },
          "execution_count": 18,
          "metadata": {},
          "output_type": "execute_result"
        }
      ],
      "source": [
        "from sklearn.linear_model import Ridge, Lasso\n",
        "from sklearn.metrics import mean_absolute_error, mean_squared_error, r2_score\n",
        "\n",
        "# Dictionary to store evaluation metrics\n",
        "# ridge_model_metrics = {}\n",
        "# lasso_model_metrics = {}\n",
        "ridge_lasso_regression_results = {}\n",
        "\n",
        "# Loop through all processed datasets\n",
        "for filename, data in processed_datasets.items():\n",
        "    print(f\"\\nTraining Ridge and Lasso Regression on {filename}...\")\n",
        "\n",
        "    # Extract train and test data\n",
        "    X_train_scaled = data[\"X_train\"]\n",
        "    X_test_scaled = data[\"X_test\"]\n",
        "    y_train = data[\"y_train\"]\n",
        "    y_test = data[\"y_test\"]\n",
        "\n",
        "    # Train Ridge Regression model\n",
        "    ridge_model = Ridge(alpha=1.0)\n",
        "    ridge_model.fit(X_train_scaled, y_train)\n",
        "    y_pred_ridge = ridge_model.predict(X_test_scaled)\n",
        "\n",
        "    # Train Lasso Regression model\n",
        "    lasso_model = Lasso(alpha=0.01)\n",
        "    lasso_model.fit(X_train_scaled, y_train)\n",
        "    y_pred_lasso = lasso_model.predict(X_test_scaled)\n",
        "\n",
        "    # Evaluate both models\n",
        "    mae_ridge = mean_absolute_error(y_test, y_pred_ridge)\n",
        "    rmse_ridge = mean_squared_error(y_test, y_pred_ridge)\n",
        "    r2_ridge = r2_score(y_test, y_pred_ridge)\n",
        "\n",
        "    mae_lasso = mean_absolute_error(y_test, y_pred_lasso)\n",
        "    rmse_lasso = mean_squared_error(y_test, y_pred_lasso)\n",
        "    r2_lasso = r2_score(y_test, y_pred_lasso)\n",
        "\n",
        "    # Evaluate models\n",
        "    ridge_lasso_regression_results[filename] = {\n",
        "        'Ridge': {\n",
        "            'MAE': mae_ridge,\n",
        "            'RMSE': rmse_ridge,\n",
        "            'R2 Score': r2_ridge,\n",
        "        },\n",
        "        'Lasso': {\n",
        "            'MAE': mae_lasso,\n",
        "            'RMSE': rmse_lasso,\n",
        "            'R2 Score': r2_lasso,\n",
        "        }\n",
        "    }\n",
        "\n",
        "# Print results\n",
        "for filename, results in ridge_lasso_regression_results.items():\n",
        "    print(f\"\\nDataset: {filename}\")\n",
        "    for model, metrics in results.items():\n",
        "        print(f\"{model} Regression - MAE: {metrics['MAE']:.4f}, RMSE: {metrics['RMSE']:.4f}, R2 Score: {metrics['R2 Score']:.4f}\")\n",
        "\n",
        "ridge_lasso_regression_results\n"
      ]
    },
    {
      "cell_type": "code",
      "execution_count": 22,
      "metadata": {
        "colab": {
          "base_uri": "https://localhost:8080/"
        },
        "id": "xmYStIlJPJqy",
        "outputId": "55612159-1577-4d28-dbc6-afe3c70a45fa"
      },
      "outputs": [
        {
          "name": "stdout",
          "output_type": "stream",
          "text": [
            "\n",
            "Ridge Regression Metrics:\n",
            "+------------------------+-----------------------+------------------------+-----------------------+\n",
            "|        Dataset         |          MAE          |          RMSE          |        R2 Score       |\n",
            "+------------------------+-----------------------+------------------------+-----------------------+\n",
            "|      knn_imputed       |  0.020357037417470462 | 0.0009931044238355165  |   0.1654855890413517  |\n",
            "|  imputed_interpolate   |  0.07565226151790168  |   0.0118987852105191   |   0.0399966510508295  |\n",
            "|      imputed_MICE      | 0.0027795425573618644 | 0.0001587748133312064  |   0.898313927004261   |\n",
            "|  mean_athlete_dataset  | 0.0044928647248737835 | 0.0002912367619557542  |  -0.01161588707165051 |\n",
            "|  mode_athlete_dataset  |  0.004879022957779792 | 0.0003350252682604101  | -0.011278509603498188 |\n",
            "| median_athlete_dataset |  0.004649090170315404 | 0.0003197426865378657  | -0.011928216562045568 |\n",
            "|       em_imputed       | 0.0038544742084191254 | 0.00028876580810258237 |   0.6841955480887292  |\n",
            "+------------------------+-----------------------+------------------------+-----------------------+\n",
            "\n",
            "Lasso Regression Metrics:\n",
            "+------------------------+-----------------------+------------------------+------------------------+\n",
            "|        Dataset         |          MAE          |          RMSE          |        R2 Score        |\n",
            "+------------------------+-----------------------+------------------------+------------------------+\n",
            "|      knn_imputed       |  0.021478412902409268 | 0.0011548628993762401  |  0.029558514613382103  |\n",
            "|  imputed_interpolate   |  0.07525702465722155  |  0.012357174149054557  | 0.0030134709757523304  |\n",
            "|      imputed_MICE      |  0.019028595740922957 | 0.0009189155201095371  |  0.41148782546601503   |\n",
            "|  mean_athlete_dataset  | 0.0030659654302126623 | 0.0002889224469720066  | -0.003577074287422377  |\n",
            "|  mode_athlete_dataset  |  0.003894191315747319 | 0.0003320307221453998  | -0.0022394298115444577 |\n",
            "| median_athlete_dataset |  0.003535213003153527 | 0.00031679083387634255 | -0.002586132676804631  |\n",
            "|       em_imputed       |  0.011200873553234033 | 0.00045739510082255834 |  0.49977661804456297   |\n",
            "+------------------------+-----------------------+------------------------+------------------------+\n"
          ]
        }
      ],
      "source": [
        "from prettytable import PrettyTable\n",
        "\n",
        "# Create tables for Ridge and Lasso separately\n",
        "ridge_table = PrettyTable()\n",
        "lasso_table = PrettyTable()\n",
        "\n",
        "# Define column headers\n",
        "ridge_table.field_names = [\"Dataset\", \"MAE\", \"RMSE\", \"R2 Score\"]\n",
        "lasso_table.field_names = [\"Dataset\", \"MAE\", \"RMSE\", \"R2 Score\"]\n",
        "\n",
        "# Loop through results and add rows to respective tables\n",
        "for dataset, models in ridge_lasso_regression_results.items():\n",
        "    ridge_metrics = models[\"Ridge\"]\n",
        "    lasso_metrics = models[\"Lasso\"]\n",
        "\n",
        "    ridge_table.add_row([dataset, ridge_metrics[\"MAE\"], ridge_metrics[\"RMSE\"], ridge_metrics[\"R2 Score\"]])\n",
        "    lasso_table.add_row([dataset, lasso_metrics[\"MAE\"], lasso_metrics[\"RMSE\"], lasso_metrics[\"R2 Score\"]])\n",
        "\n",
        "# Print the tables\n",
        "print(\"\\nRidge Regression Metrics:\")\n",
        "print(ridge_table)\n",
        "\n",
        "print(\"\\nLasso Regression Metrics:\")\n",
        "print(lasso_table)\n"
      ]
    },
    {
      "cell_type": "markdown",
      "metadata": {
        "id": "ZN00Ta0NUKzk"
      },
      "source": [
        "# Random Forest"
      ]
    },
    {
      "cell_type": "code",
      "execution_count": 25,
      "metadata": {
        "colab": {
          "base_uri": "https://localhost:8080/"
        },
        "id": "rVA_mf9nQgDq",
        "outputId": "44dbc938-51df-48e0-fa36-0fba592fbd86"
      },
      "outputs": [
        {
          "name": "stdout",
          "output_type": "stream",
          "text": [
            "\n",
            "Training Random Forest Regression on knn_imputed...\n",
            "Linear Regression Metrics for knn_imputed:\n",
            "MAE: 0.0139, RMSE: 0.0006, R2 Score: 0.4830\n",
            "\n",
            "Training Random Forest Regression on imputed_interpolate...\n",
            "Linear Regression Metrics for imputed_interpolate:\n",
            "MAE: 0.0556, RMSE: 0.0078, R2 Score: 0.3743\n",
            "\n",
            "Training Random Forest Regression on imputed_MICE...\n",
            "Linear Regression Metrics for imputed_MICE:\n",
            "MAE: 0.0102, RMSE: 0.0004, R2 Score: 0.7491\n",
            "\n",
            "Training Random Forest Regression on mean_athlete_dataset...\n",
            "Linear Regression Metrics for mean_athlete_dataset:\n",
            "MAE: 0.0057, RMSE: 0.0004, R2 Score: -0.2374\n",
            "\n",
            "Training Random Forest Regression on mode_athlete_dataset...\n",
            "Linear Regression Metrics for mode_athlete_dataset:\n",
            "MAE: 0.0057, RMSE: 0.0004, R2 Score: -0.1638\n",
            "\n",
            "Training Random Forest Regression on median_athlete_dataset...\n",
            "Linear Regression Metrics for median_athlete_dataset:\n",
            "MAE: 0.0056, RMSE: 0.0004, R2 Score: -0.1896\n",
            "\n",
            "Training Random Forest Regression on em_imputed...\n",
            "Linear Regression Metrics for em_imputed:\n",
            "MAE: 0.0060, RMSE: 0.0003, R2 Score: 0.6449\n"
          ]
        },
        {
          "data": {
            "text/plain": [
              "{'knn_imputed': {'MAE': 0.013911030911821854,\n",
              "  'RMSE': 0.0006152334750198349,\n",
              "  'R2 Score': 0.4830138818380135},\n",
              " 'imputed_interpolate': {'MAE': 0.05555416689858748,\n",
              "  'RMSE': 0.007755580317677651,\n",
              "  'R2 Score': 0.37427368035581154},\n",
              " 'imputed_MICE': {'MAE': 0.010224174457015758,\n",
              "  'RMSE': 0.00039177645435605374,\n",
              "  'R2 Score': 0.749089869483528},\n",
              " 'mean_athlete_dataset': {'MAE': 0.005662214234537527,\n",
              "  'RMSE': 0.00035623813449471006,\n",
              "  'R2 Score': -0.23739926929405208},\n",
              " 'mode_athlete_dataset': {'MAE': 0.005729942641205406,\n",
              "  'RMSE': 0.0003855426946574923,\n",
              "  'R2 Score': -0.16376607551490396},\n",
              " 'median_athlete_dataset': {'MAE': 0.005557152239496464,\n",
              "  'RMSE': 0.00037587488432600874,\n",
              "  'R2 Score': -0.18957654814550096},\n",
              " 'em_imputed': {'MAE': 0.005965103812038615,\n",
              "  'RMSE': 0.00032473299632503527,\n",
              "  'R2 Score': 0.6448605650517272}}"
            ]
          },
          "execution_count": 25,
          "metadata": {},
          "output_type": "execute_result"
        }
      ],
      "source": [
        "from sklearn.ensemble import RandomForestRegressor\n",
        "from sklearn.metrics import mean_absolute_error, mean_squared_error, r2_score\n",
        "\n",
        "# Dictionary to store evaluation metrics\n",
        "random_forest_model_metrics = {}\n",
        "\n",
        "# Loop through all processed datasets\n",
        "for filename, data in processed_datasets.items():\n",
        "    print(f\"\\nTraining Random Forest Regression on {filename}...\")\n",
        "\n",
        "    # Extract train and test data\n",
        "    X_train_scaled = data[\"X_train\"]\n",
        "    X_test_scaled = data[\"X_test\"]\n",
        "    y_train = data[\"y_train\"]\n",
        "    y_test = data[\"y_test\"]\n",
        "\n",
        "    # Train Random Forest Regressor\n",
        "    rf_model = RandomForestRegressor(n_estimators=100, random_state=42)\n",
        "    rf_model.fit(X_train_scaled, y_train)\n",
        "\n",
        "    # Predict on test set\n",
        "    y_pred_rf = rf_model.predict(X_test_scaled)\n",
        "\n",
        "    # Evaluate Random Forest model\n",
        "    mae_rf = mean_absolute_error(y_test, y_pred_rf)\n",
        "    rmse_rf = mean_squared_error(y_test, y_pred_rf)\n",
        "    r2_rf = r2_score(y_test, y_pred_rf)\n",
        "\n",
        "    # Store metrics in dictionary\n",
        "    random_forest_model_metrics[filename] = {\n",
        "        \"MAE\": mae_rf,\n",
        "        \"RMSE\": rmse_rf,\n",
        "        \"R2 Score\": r2_rf\n",
        "    }\n",
        "\n",
        "    # Print metrics for each dataset\n",
        "    print(f\"Linear Regression Metrics for {filename}:\")\n",
        "    print(f\"MAE: {mae_rf:.4f}, RMSE: {rmse_rf:.4f}, R2 Score: {r2_rf:.4f}\")\n",
        "\n",
        "# Display all model metrics\n",
        "random_forest_model_metrics\n"
      ]
    },
    {
      "cell_type": "code",
      "execution_count": 26,
      "metadata": {
        "colab": {
          "base_uri": "https://localhost:8080/"
        },
        "id": "NCdBGMIHRTku",
        "outputId": "5cf9faaa-6e02-4f28-ae35-4b1134f3c32e"
      },
      "outputs": [
        {
          "name": "stdout",
          "output_type": "stream",
          "text": [
            "Random Forest Regression Model Metrics: \n",
            "+------------------------+----------------------+------------------------+----------------------+\n",
            "|        Dataset         |         MAE          |          RMSE          |       R2 Score       |\n",
            "+------------------------+----------------------+------------------------+----------------------+\n",
            "|      knn_imputed       | 0.013911030911821854 | 0.0006152334750198349  |  0.4830138818380135  |\n",
            "|  imputed_interpolate   | 0.05555416689858748  |  0.007755580317677651  | 0.37427368035581154  |\n",
            "|      imputed_MICE      | 0.010224174457015758 | 0.00039177645435605374 |  0.749089869483528   |\n",
            "|  mean_athlete_dataset  | 0.005662214234537527 | 0.00035623813449471006 | -0.23739926929405208 |\n",
            "|  mode_athlete_dataset  | 0.005729942641205406 | 0.0003855426946574923  | -0.16376607551490396 |\n",
            "| median_athlete_dataset | 0.005557152239496464 | 0.00037587488432600874 | -0.18957654814550096 |\n",
            "|       em_imputed       | 0.005965103812038615 | 0.00032473299632503527 |  0.6448605650517272  |\n",
            "+------------------------+----------------------+------------------------+----------------------+\n"
          ]
        }
      ],
      "source": [
        "from prettytable import PrettyTable\n",
        "\n",
        "# Create a PrettyTable object\n",
        "table = PrettyTable()\n",
        "table.field_names = [\"Dataset\", \"MAE\", \"RMSE\", \"R2 Score\"]\n",
        "\n",
        "# Loop through dictionary and add rows\n",
        "for dataset, metrics in random_forest_model_metrics.items():\n",
        "    table.add_row([dataset, metrics[\"MAE\"], metrics[\"RMSE\"], metrics[\"R2 Score\"]])\n",
        "\n",
        "# Print the table\n",
        "print(\"Random Forest Regression Model Metrics: \")\n",
        "print(table)\n"
      ]
    },
    {
      "cell_type": "markdown",
      "metadata": {
        "id": "NfBQWrSOWAcL"
      },
      "source": [
        "# Gradient Boosting Models (XGBoost, LightGBM)"
      ]
    },
    {
      "cell_type": "code",
      "execution_count": 27,
      "metadata": {
        "colab": {
          "base_uri": "https://localhost:8080/"
        },
        "id": "iKc8Gs9CSN8Z",
        "outputId": "634fa0df-3399-4efe-9a25-c1fad49fc1fd"
      },
      "outputs": [
        {
          "name": "stdout",
          "output_type": "stream",
          "text": [
            "\n",
            "Training Ridge and Lasso Regression on knn_imputed...\n"
          ]
        },
        {
          "name": "stderr",
          "output_type": "stream",
          "text": [
            "/usr/local/lib/python3.11/dist-packages/sklearn/utils/deprecation.py:151: FutureWarning: 'force_all_finite' was renamed to 'ensure_all_finite' in 1.6 and will be removed in 1.8.\n",
            "  warnings.warn(\n",
            "/usr/local/lib/python3.11/dist-packages/sklearn/utils/deprecation.py:151: FutureWarning: 'force_all_finite' was renamed to 'ensure_all_finite' in 1.6 and will be removed in 1.8.\n",
            "  warnings.warn(\n"
          ]
        },
        {
          "name": "stdout",
          "output_type": "stream",
          "text": [
            "[LightGBM] [Info] Auto-choosing col-wise multi-threading, the overhead of testing was 0.001522 seconds.\n",
            "You can set `force_col_wise=true` to remove the overhead.\n",
            "[LightGBM] [Info] Total Bins 3835\n",
            "[LightGBM] [Info] Number of data points in the train set: 2488, number of used features: 23\n",
            "[LightGBM] [Info] Start training from score 0.375456\n",
            "\n",
            "Training Ridge and Lasso Regression on imputed_interpolate...\n"
          ]
        },
        {
          "name": "stderr",
          "output_type": "stream",
          "text": [
            "/usr/local/lib/python3.11/dist-packages/sklearn/utils/deprecation.py:151: FutureWarning: 'force_all_finite' was renamed to 'ensure_all_finite' in 1.6 and will be removed in 1.8.\n",
            "  warnings.warn(\n"
          ]
        },
        {
          "name": "stdout",
          "output_type": "stream",
          "text": [
            "[LightGBM] [Info] Auto-choosing col-wise multi-threading, the overhead of testing was 0.000399 seconds.\n",
            "You can set `force_col_wise=true` to remove the overhead.\n",
            "[LightGBM] [Info] Total Bins 5865\n",
            "[LightGBM] [Info] Number of data points in the train set: 2488, number of used features: 23\n",
            "[LightGBM] [Info] Start training from score 0.382502\n"
          ]
        },
        {
          "name": "stderr",
          "output_type": "stream",
          "text": [
            "/usr/local/lib/python3.11/dist-packages/sklearn/utils/deprecation.py:151: FutureWarning: 'force_all_finite' was renamed to 'ensure_all_finite' in 1.6 and will be removed in 1.8.\n",
            "  warnings.warn(\n"
          ]
        },
        {
          "name": "stdout",
          "output_type": "stream",
          "text": [
            "\n",
            "Training Ridge and Lasso Regression on imputed_MICE...\n"
          ]
        },
        {
          "name": "stderr",
          "output_type": "stream",
          "text": [
            "/usr/local/lib/python3.11/dist-packages/sklearn/utils/deprecation.py:151: FutureWarning: 'force_all_finite' was renamed to 'ensure_all_finite' in 1.6 and will be removed in 1.8.\n",
            "  warnings.warn(\n",
            "/usr/local/lib/python3.11/dist-packages/sklearn/utils/deprecation.py:151: FutureWarning: 'force_all_finite' was renamed to 'ensure_all_finite' in 1.6 and will be removed in 1.8.\n",
            "  warnings.warn(\n"
          ]
        },
        {
          "name": "stdout",
          "output_type": "stream",
          "text": [
            "[LightGBM] [Info] Auto-choosing col-wise multi-threading, the overhead of testing was 0.000454 seconds.\n",
            "You can set `force_col_wise=true` to remove the overhead.\n",
            "[LightGBM] [Info] Total Bins 3994\n",
            "[LightGBM] [Info] Number of data points in the train set: 2488, number of used features: 23\n",
            "[LightGBM] [Info] Start training from score 0.389330\n",
            "\n",
            "Training Ridge and Lasso Regression on mean_athlete_dataset...\n"
          ]
        },
        {
          "name": "stderr",
          "output_type": "stream",
          "text": [
            "/usr/local/lib/python3.11/dist-packages/sklearn/utils/deprecation.py:151: FutureWarning: 'force_all_finite' was renamed to 'ensure_all_finite' in 1.6 and will be removed in 1.8.\n",
            "  warnings.warn(\n",
            "/usr/local/lib/python3.11/dist-packages/sklearn/utils/deprecation.py:151: FutureWarning: 'force_all_finite' was renamed to 'ensure_all_finite' in 1.6 and will be removed in 1.8.\n",
            "  warnings.warn(\n"
          ]
        },
        {
          "name": "stdout",
          "output_type": "stream",
          "text": [
            "[LightGBM] [Info] Auto-choosing row-wise multi-threading, the overhead of testing was 0.000258 seconds.\n",
            "You can set `force_row_wise=true` to remove the overhead.\n",
            "And if memory is not enough, you can set `force_col_wise=true`.\n",
            "[LightGBM] [Info] Total Bins 3645\n",
            "[LightGBM] [Info] Number of data points in the train set: 2488, number of used features: 23\n",
            "[LightGBM] [Info] Start training from score 0.377781\n",
            "\n",
            "Training Ridge and Lasso Regression on mode_athlete_dataset...\n"
          ]
        },
        {
          "name": "stderr",
          "output_type": "stream",
          "text": [
            "/usr/local/lib/python3.11/dist-packages/sklearn/utils/deprecation.py:151: FutureWarning: 'force_all_finite' was renamed to 'ensure_all_finite' in 1.6 and will be removed in 1.8.\n",
            "  warnings.warn(\n"
          ]
        },
        {
          "name": "stdout",
          "output_type": "stream",
          "text": [
            "[LightGBM] [Info] Auto-choosing col-wise multi-threading, the overhead of testing was 0.000713 seconds.\n",
            "You can set `force_col_wise=true` to remove the overhead.\n",
            "[LightGBM] [Info] Total Bins 3612\n",
            "[LightGBM] [Info] Number of data points in the train set: 2488, number of used features: 23\n",
            "[LightGBM] [Info] Start training from score 0.360888\n"
          ]
        },
        {
          "name": "stderr",
          "output_type": "stream",
          "text": [
            "/usr/local/lib/python3.11/dist-packages/sklearn/utils/deprecation.py:151: FutureWarning: 'force_all_finite' was renamed to 'ensure_all_finite' in 1.6 and will be removed in 1.8.\n",
            "  warnings.warn(\n"
          ]
        },
        {
          "name": "stdout",
          "output_type": "stream",
          "text": [
            "\n",
            "Training Ridge and Lasso Regression on median_athlete_dataset...\n"
          ]
        },
        {
          "name": "stderr",
          "output_type": "stream",
          "text": [
            "/usr/local/lib/python3.11/dist-packages/sklearn/utils/deprecation.py:151: FutureWarning: 'force_all_finite' was renamed to 'ensure_all_finite' in 1.6 and will be removed in 1.8.\n",
            "  warnings.warn(\n",
            "/usr/local/lib/python3.11/dist-packages/sklearn/utils/deprecation.py:151: FutureWarning: 'force_all_finite' was renamed to 'ensure_all_finite' in 1.6 and will be removed in 1.8.\n",
            "  warnings.warn(\n"
          ]
        },
        {
          "name": "stdout",
          "output_type": "stream",
          "text": [
            "[LightGBM] [Info] Auto-choosing row-wise multi-threading, the overhead of testing was 0.000156 seconds.\n",
            "You can set `force_row_wise=true` to remove the overhead.\n",
            "And if memory is not enough, you can set `force_col_wise=true`.\n",
            "[LightGBM] [Info] Total Bins 3605\n",
            "[LightGBM] [Info] Number of data points in the train set: 2488, number of used features: 23\n",
            "[LightGBM] [Info] Start training from score 0.365581\n",
            "\n",
            "Training Ridge and Lasso Regression on em_imputed...\n",
            "[LightGBM] [Info] Auto-choosing row-wise multi-threading, the overhead of testing was 0.000149 seconds.\n",
            "You can set `force_row_wise=true` to remove the overhead.\n",
            "And if memory is not enough, you can set `force_col_wise=true`.\n",
            "[LightGBM] [Info] Total Bins 4088\n",
            "[LightGBM] [Info] Number of data points in the train set: 2488, number of used features: 23\n",
            "[LightGBM] [Info] Start training from score 0.377681\n",
            "\n",
            "Dataset: knn_imputed\n",
            "XGBoost Regression - MAE: 0.0142, RMSE: 0.0006, R2 Score: 0.4633\n",
            "LightGBM Regression - MAE: 0.0137, RMSE: 0.0006, R2 Score: 0.5049\n",
            "\n",
            "Dataset: imputed_interpolate\n",
            "XGBoost Regression - MAE: 0.0576, RMSE: 0.0076, R2 Score: 0.3884\n",
            "LightGBM Regression - MAE: 0.0564, RMSE: 0.0076, R2 Score: 0.3858\n",
            "\n",
            "Dataset: imputed_MICE\n",
            "XGBoost Regression - MAE: 0.0100, RMSE: 0.0004, R2 Score: 0.7609\n",
            "LightGBM Regression - MAE: 0.0082, RMSE: 0.0003, R2 Score: 0.8035\n",
            "\n",
            "Dataset: mean_athlete_dataset\n",
            "XGBoost Regression - MAE: 0.0065, RMSE: 0.0003, R2 Score: -0.1949\n",
            "LightGBM Regression - MAE: 0.0067, RMSE: 0.0003, R2 Score: -0.1961\n",
            "\n",
            "Dataset: mode_athlete_dataset\n",
            "XGBoost Regression - MAE: 0.0063, RMSE: 0.0004, R2 Score: -0.2024\n",
            "LightGBM Regression - MAE: 0.0067, RMSE: 0.0004, R2 Score: -0.1989\n",
            "\n",
            "Dataset: median_athlete_dataset\n",
            "XGBoost Regression - MAE: 0.0064, RMSE: 0.0004, R2 Score: -0.2120\n",
            "LightGBM Regression - MAE: 0.0066, RMSE: 0.0004, R2 Score: -0.1962\n",
            "\n",
            "Dataset: em_imputed\n",
            "XGBoost Regression - MAE: 0.0075, RMSE: 0.0004, R2 Score: 0.5856\n",
            "LightGBM Regression - MAE: 0.0064, RMSE: 0.0003, R2 Score: 0.6506\n"
          ]
        },
        {
          "name": "stderr",
          "output_type": "stream",
          "text": [
            "/usr/local/lib/python3.11/dist-packages/sklearn/utils/deprecation.py:151: FutureWarning: 'force_all_finite' was renamed to 'ensure_all_finite' in 1.6 and will be removed in 1.8.\n",
            "  warnings.warn(\n",
            "/usr/local/lib/python3.11/dist-packages/sklearn/utils/deprecation.py:151: FutureWarning: 'force_all_finite' was renamed to 'ensure_all_finite' in 1.6 and will be removed in 1.8.\n",
            "  warnings.warn(\n"
          ]
        },
        {
          "data": {
            "text/plain": [
              "{'knn_imputed': {'XGBoost': {'MAE': 0.014237389402325848,\n",
              "   'RMSE': 0.0006386360639050257,\n",
              "   'R2 Score': 0.4633484798825923},\n",
              "  'LightGBM': {'MAE': 0.013721160960179687,\n",
              "   'RMSE': 0.0005891630306447543,\n",
              "   'R2 Score': 0.5049211063039716}},\n",
              " 'imputed_interpolate': {'XGBoost': {'MAE': 0.05760535996537358,\n",
              "   'RMSE': 0.007580826349754265,\n",
              "   'R2 Score': 0.38837296792848697},\n",
              "  'LightGBM': {'MAE': 0.05642432008933605,\n",
              "   'RMSE': 0.007612271883875058,\n",
              "   'R2 Score': 0.3858359175043169}},\n",
              " 'imputed_MICE': {'XGBoost': {'MAE': 0.010022312332854253,\n",
              "   'RMSE': 0.0003733517737864623,\n",
              "   'R2 Score': 0.7608898103810458},\n",
              "  'LightGBM': {'MAE': 0.008216242211080738,\n",
              "   'RMSE': 0.000306882287883441,\n",
              "   'R2 Score': 0.8034596667311487}},\n",
              " 'mean_athlete_dataset': {'XGBoost': {'MAE': 0.006497042212784768,\n",
              "   'RMSE': 0.00034401441498668577,\n",
              "   'R2 Score': -0.19493996995840135},\n",
              "  'LightGBM': {'MAE': 0.006717600457682171,\n",
              "   'RMSE': 0.00034435851488343614,\n",
              "   'R2 Score': -0.19613520685073182}},\n",
              " 'mode_athlete_dataset': {'XGBoost': {'MAE': 0.006312120532912967,\n",
              "   'RMSE': 0.00039833560452016395,\n",
              "   'R2 Score': -0.20238165483102488},\n",
              "  'LightGBM': {'MAE': 0.006718559099954432,\n",
              "   'RMSE': 0.0003971934059917706,\n",
              "   'R2 Score': -0.19893391242203395}},\n",
              " 'median_athlete_dataset': {'XGBoost': {'MAE': 0.0063977535348834075,\n",
              "   'RMSE': 0.0003829680349734371,\n",
              "   'R2 Score': -0.21202509689004922},\n",
              "  'LightGBM': {'MAE': 0.006605098179582325,\n",
              "   'RMSE': 0.00037797764957563,\n",
              "   'R2 Score': -0.19623142276339434}},\n",
              " 'em_imputed': {'XGBoost': {'MAE': 0.007474159172579289,\n",
              "   'RMSE': 0.0003788804326712599,\n",
              "   'R2 Score': 0.5856430227461464},\n",
              "  'LightGBM': {'MAE': 0.00643530263516425,\n",
              "   'RMSE': 0.0003194443078382583,\n",
              "   'R2 Score': 0.6506444609356288}}}"
            ]
          },
          "execution_count": 27,
          "metadata": {},
          "output_type": "execute_result"
        }
      ],
      "source": [
        "from xgboost import XGBRegressor\n",
        "from lightgbm import LGBMRegressor\n",
        "\n",
        "xgboost_lightgbm_regression_results = {}\n",
        "\n",
        "# Loop through all processed datasets\n",
        "for filename, data in processed_datasets.items():\n",
        "    print(f\"\\nTraining Ridge and Lasso Regression on {filename}...\")\n",
        "\n",
        "    # Extract train and test data\n",
        "    X_train_scaled = data[\"X_train\"]\n",
        "    X_test_scaled = data[\"X_test\"]\n",
        "    y_train = data[\"y_train\"]\n",
        "    y_test = data[\"y_test\"]\n",
        "\n",
        "    # Train XGBoost Regressor\n",
        "    xgb_model = XGBRegressor(n_estimators=100, random_state=42)\n",
        "    xgb_model.fit(X_train_scaled, y_train)\n",
        "    y_pred_xgb = xgb_model.predict(X_test_scaled)\n",
        "\n",
        "    # Train LightGBM Regressor\n",
        "    lgb_model = LGBMRegressor(n_estimators=100, random_state=42)\n",
        "    lgb_model.fit(X_train_scaled, y_train)\n",
        "    y_pred_lgb = lgb_model.predict(X_test_scaled)\n",
        "\n",
        "    # Evaluate both models\n",
        "    mae_xgb = mean_absolute_error(y_test, y_pred_xgb)\n",
        "    rmse_xgb = mean_squared_error(y_test, y_pred_xgb)\n",
        "    r2_xgb = r2_score(y_test, y_pred_xgb)\n",
        "\n",
        "    mae_lgb = mean_absolute_error(y_test, y_pred_lgb)\n",
        "    rmse_lgb = mean_squared_error(y_test, y_pred_lgb)\n",
        "    r2_lgb = r2_score(y_test, y_pred_lgb)\n",
        "\n",
        "    # Evaluate models\n",
        "    xgboost_lightgbm_regression_results[filename] = {\n",
        "        'XGBoost': {\n",
        "            'MAE': mae_xgb,\n",
        "            'RMSE': rmse_xgb,\n",
        "            'R2 Score': r2_xgb,\n",
        "        },\n",
        "        'LightGBM': {\n",
        "            'MAE': mae_lgb,\n",
        "            'RMSE': rmse_lgb,\n",
        "            'R2 Score': r2_lgb,\n",
        "        }\n",
        "    }\n",
        "\n",
        "# Print results\n",
        "for filename, results in xgboost_lightgbm_regression_results.items():\n",
        "    print(f\"\\nDataset: {filename}\")\n",
        "    for model, metrics in results.items():\n",
        "        print(f\"{model} Regression - MAE: {metrics['MAE']:.4f}, RMSE: {metrics['RMSE']:.4f}, R2 Score: {metrics['R2 Score']:.4f}\")\n",
        "\n",
        "xgboost_lightgbm_regression_results\n"
      ]
    },
    {
      "cell_type": "code",
      "execution_count": 28,
      "metadata": {
        "colab": {
          "base_uri": "https://localhost:8080/"
        },
        "id": "QvmBPh2jSyax",
        "outputId": "45817297-c300-4555-f63b-d5fe03d1edba"
      },
      "outputs": [
        {
          "name": "stdout",
          "output_type": "stream",
          "text": [
            "\n",
            "XGBoost Regression Metrics:\n",
            "+------------------------+-----------------------+------------------------+----------------------+\n",
            "|        Dataset         |          MAE          |          RMSE          |       R2 Score       |\n",
            "+------------------------+-----------------------+------------------------+----------------------+\n",
            "|      knn_imputed       |  0.014237389402325848 | 0.0006386360639050257  |  0.4633484798825923  |\n",
            "|  imputed_interpolate   |  0.05760535996537358  |  0.007580826349754265  | 0.38837296792848697  |\n",
            "|      imputed_MICE      |  0.010022312332854253 | 0.0003733517737864623  |  0.7608898103810458  |\n",
            "|  mean_athlete_dataset  |  0.006497042212784768 | 0.00034401441498668577 | -0.19493996995840135 |\n",
            "|  mode_athlete_dataset  |  0.006312120532912967 | 0.00039833560452016395 | -0.20238165483102488 |\n",
            "| median_athlete_dataset | 0.0063977535348834075 | 0.0003829680349734371  | -0.21202509689004922 |\n",
            "|       em_imputed       |  0.007474159172579289 | 0.0003788804326712599  |  0.5856430227461464  |\n",
            "+------------------------+-----------------------+------------------------+----------------------+\n",
            "\n",
            "LightGBM Regression Metrics:\n",
            "+------------------------+----------------------+------------------------+----------------------+\n",
            "|        Dataset         |         MAE          |          RMSE          |       R2 Score       |\n",
            "+------------------------+----------------------+------------------------+----------------------+\n",
            "|      knn_imputed       | 0.013721160960179687 | 0.0005891630306447543  |  0.5049211063039716  |\n",
            "|  imputed_interpolate   | 0.05642432008933605  |  0.007612271883875058  |  0.3858359175043169  |\n",
            "|      imputed_MICE      | 0.008216242211080738 |  0.000306882287883441  |  0.8034596667311487  |\n",
            "|  mean_athlete_dataset  | 0.006717600457682171 | 0.00034435851488343614 | -0.19613520685073182 |\n",
            "|  mode_athlete_dataset  | 0.006718559099954432 | 0.0003971934059917706  | -0.19893391242203395 |\n",
            "| median_athlete_dataset | 0.006605098179582325 |  0.00037797764957563   | -0.19623142276339434 |\n",
            "|       em_imputed       | 0.00643530263516425  | 0.0003194443078382583  |  0.6506444609356288  |\n",
            "+------------------------+----------------------+------------------------+----------------------+\n"
          ]
        }
      ],
      "source": [
        "from prettytable import PrettyTable\n",
        "\n",
        "# Create tables for Ridge and Lasso separately\n",
        "xgboost_table = PrettyTable()\n",
        "lightgbm_table = PrettyTable()\n",
        "\n",
        "# Define column headers\n",
        "xgboost_table.field_names = [\"Dataset\", \"MAE\", \"RMSE\", \"R2 Score\"]\n",
        "lightgbm_table.field_names = [\"Dataset\", \"MAE\", \"RMSE\", \"R2 Score\"]\n",
        "\n",
        "# Loop through results and add rows to respective tables\n",
        "for dataset, models in xgboost_lightgbm_regression_results.items():\n",
        "    xgboost_metrics = models[\"XGBoost\"]\n",
        "    lightgbm_metrics = models[\"LightGBM\"]\n",
        "\n",
        "    xgboost_table.add_row([dataset, xgboost_metrics[\"MAE\"], xgboost_metrics[\"RMSE\"], xgboost_metrics[\"R2 Score\"]])\n",
        "    lightgbm_table.add_row([dataset, lightgbm_metrics[\"MAE\"], lightgbm_metrics[\"RMSE\"], lightgbm_metrics[\"R2 Score\"]])\n",
        "\n",
        "# Print the tables\n",
        "print(\"\\nXGBoost Regression Metrics:\")\n",
        "print(xgboost_table)\n",
        "\n",
        "print(\"\\nLightGBM Regression Metrics:\")\n",
        "print(lightgbm_table)\n"
      ]
    },
    {
      "cell_type": "markdown",
      "metadata": {
        "id": "6QzAhBSlbGKq"
      },
      "source": [
        "# Model Comparison:"
      ]
    },
    {
      "cell_type": "code",
      "execution_count": 31,
      "metadata": {
        "colab": {
          "base_uri": "https://localhost:8080/"
        },
        "id": "6X9osIAnYWQl",
        "outputId": "1fb5b9cd-4cde-47ab-9e81-b128847609cd"
      },
      "outputs": [
        {
          "name": "stdout",
          "output_type": "stream",
          "text": [
            "                   Dataset          Model       MAE      RMSE  R2 Score\n",
            "0              knn_imputed          Ridge  0.020357  0.000993  0.165486\n",
            "1              knn_imputed          Lasso  0.021478  0.001155  0.029559\n",
            "2              knn_imputed  Random Forest  0.013911  0.000615  0.483014\n",
            "3              knn_imputed        XGBoost  0.014237  0.000639  0.463348\n",
            "4              knn_imputed       LightGBM  0.013721  0.000589  0.504921\n",
            "5      imputed_interpolate          Ridge  0.075652  0.011899  0.039997\n",
            "6      imputed_interpolate          Lasso  0.075257  0.012357  0.003013\n",
            "7      imputed_interpolate  Random Forest  0.055554  0.007756  0.374274\n",
            "8      imputed_interpolate        XGBoost  0.057605  0.007581  0.388373\n",
            "9      imputed_interpolate       LightGBM  0.056424  0.007612  0.385836\n",
            "10            imputed_MICE          Ridge  0.002780  0.000159  0.898314\n",
            "11            imputed_MICE          Lasso  0.019029  0.000919  0.411488\n",
            "12            imputed_MICE  Random Forest  0.010224  0.000392  0.749090\n",
            "13            imputed_MICE        XGBoost  0.010022  0.000373  0.760890\n",
            "14            imputed_MICE       LightGBM  0.008216  0.000307  0.803460\n",
            "15    mean_athlete_dataset          Ridge  0.004493  0.000291 -0.011616\n",
            "16    mean_athlete_dataset          Lasso  0.003066  0.000289 -0.003577\n",
            "17    mean_athlete_dataset  Random Forest  0.005662  0.000356 -0.237399\n",
            "18    mean_athlete_dataset        XGBoost  0.006497  0.000344 -0.194940\n",
            "19    mean_athlete_dataset       LightGBM  0.006718  0.000344 -0.196135\n",
            "20    mode_athlete_dataset          Ridge  0.004879  0.000335 -0.011279\n",
            "21    mode_athlete_dataset          Lasso  0.003894  0.000332 -0.002239\n",
            "22    mode_athlete_dataset  Random Forest  0.005730  0.000386 -0.163766\n",
            "23    mode_athlete_dataset        XGBoost  0.006312  0.000398 -0.202382\n",
            "24    mode_athlete_dataset       LightGBM  0.006719  0.000397 -0.198934\n",
            "25  median_athlete_dataset          Ridge  0.004649  0.000320 -0.011928\n",
            "26  median_athlete_dataset          Lasso  0.003535  0.000317 -0.002586\n",
            "27  median_athlete_dataset  Random Forest  0.005557  0.000376 -0.189577\n",
            "28  median_athlete_dataset        XGBoost  0.006398  0.000383 -0.212025\n",
            "29  median_athlete_dataset       LightGBM  0.006605  0.000378 -0.196231\n",
            "30              em_imputed          Ridge  0.003854  0.000289  0.684196\n",
            "31              em_imputed          Lasso  0.011201  0.000457  0.499777\n",
            "32              em_imputed  Random Forest  0.005965  0.000325  0.644861\n",
            "33              em_imputed        XGBoost  0.007474  0.000379  0.585643\n",
            "34              em_imputed       LightGBM  0.006435  0.000319  0.650644\n"
          ]
        }
      ],
      "source": [
        "import pandas as pd\n",
        "\n",
        "# Consolidating the model results into a structured format\n",
        "model_results = {\n",
        "    \"knn_imputed\": {\n",
        "        \"Ridge\": ridge_lasso_regression_results[\"knn_imputed\"][\"Ridge\"],\n",
        "        \"Lasso\": ridge_lasso_regression_results[\"knn_imputed\"][\"Lasso\"],\n",
        "        \"Random Forest\": random_forest_model_metrics[\"knn_imputed\"],\n",
        "        \"XGBoost\": xgboost_lightgbm_regression_results[\"knn_imputed\"][\"XGBoost\"],\n",
        "        \"LightGBM\": xgboost_lightgbm_regression_results[\"knn_imputed\"][\"LightGBM\"]\n",
        "    },\n",
        "    \"imputed_interpolate\": {\n",
        "        \"Ridge\": ridge_lasso_regression_results[\"imputed_interpolate\"][\"Ridge\"],\n",
        "        \"Lasso\": ridge_lasso_regression_results[\"imputed_interpolate\"][\"Lasso\"],\n",
        "        \"Random Forest\": random_forest_model_metrics[\"imputed_interpolate\"],\n",
        "        \"XGBoost\": xgboost_lightgbm_regression_results[\"imputed_interpolate\"][\"XGBoost\"],\n",
        "        \"LightGBM\": xgboost_lightgbm_regression_results[\"imputed_interpolate\"][\"LightGBM\"]\n",
        "    },\n",
        "    \"imputed_MICE\": {\n",
        "        \"Ridge\": ridge_lasso_regression_results[\"imputed_MICE\"][\"Ridge\"],\n",
        "        \"Lasso\": ridge_lasso_regression_results[\"imputed_MICE\"][\"Lasso\"],\n",
        "        \"Random Forest\": random_forest_model_metrics[\"imputed_MICE\"],\n",
        "        \"XGBoost\": xgboost_lightgbm_regression_results[\"imputed_MICE\"][\"XGBoost\"],\n",
        "        \"LightGBM\": xgboost_lightgbm_regression_results[\"imputed_MICE\"][\"LightGBM\"]\n",
        "    },\n",
        "    \"mean_athlete_dataset\": {\n",
        "        \"Ridge\": ridge_lasso_regression_results[\"mean_athlete_dataset\"][\"Ridge\"],\n",
        "        \"Lasso\": ridge_lasso_regression_results[\"mean_athlete_dataset\"][\"Lasso\"],\n",
        "        \"Random Forest\": random_forest_model_metrics[\"mean_athlete_dataset\"],\n",
        "        \"XGBoost\": xgboost_lightgbm_regression_results[\"mean_athlete_dataset\"][\"XGBoost\"],\n",
        "        \"LightGBM\": xgboost_lightgbm_regression_results[\"mean_athlete_dataset\"][\"LightGBM\"]\n",
        "    },\n",
        "    \"mode_athlete_dataset\": {\n",
        "        \"Ridge\": ridge_lasso_regression_results[\"mode_athlete_dataset\"][\"Ridge\"],\n",
        "        \"Lasso\": ridge_lasso_regression_results[\"mode_athlete_dataset\"][\"Lasso\"],\n",
        "        \"Random Forest\": random_forest_model_metrics[\"mode_athlete_dataset\"],\n",
        "        \"XGBoost\": xgboost_lightgbm_regression_results[\"mode_athlete_dataset\"][\"XGBoost\"],\n",
        "        \"LightGBM\": xgboost_lightgbm_regression_results[\"mode_athlete_dataset\"][\"LightGBM\"]\n",
        "    },\n",
        "    \"median_athlete_dataset\": {\n",
        "        \"Ridge\": ridge_lasso_regression_results[\"median_athlete_dataset\"][\"Ridge\"],\n",
        "        \"Lasso\": ridge_lasso_regression_results[\"median_athlete_dataset\"][\"Lasso\"],\n",
        "        \"Random Forest\": random_forest_model_metrics[\"median_athlete_dataset\"],\n",
        "        \"XGBoost\": xgboost_lightgbm_regression_results[\"median_athlete_dataset\"][\"XGBoost\"],\n",
        "        \"LightGBM\": xgboost_lightgbm_regression_results[\"median_athlete_dataset\"][\"LightGBM\"]\n",
        "    },\n",
        "    \"em_imputed\": {\n",
        "        \"Ridge\": ridge_lasso_regression_results[\"em_imputed\"][\"Ridge\"],\n",
        "        \"Lasso\": ridge_lasso_regression_results[\"em_imputed\"][\"Lasso\"],\n",
        "        \"Random Forest\": random_forest_model_metrics[\"em_imputed\"],\n",
        "        \"XGBoost\": xgboost_lightgbm_regression_results[\"em_imputed\"][\"XGBoost\"],\n",
        "        \"LightGBM\": xgboost_lightgbm_regression_results[\"em_imputed\"][\"LightGBM\"]\n",
        "    }\n",
        "}\n",
        "\n",
        "# Creating a dataframe\n",
        "comparison_data = []\n",
        "\n",
        "for dataset, models in model_results.items():\n",
        "    for model, metrics in models.items():\n",
        "        comparison_data.append([\n",
        "            dataset, model, metrics[\"MAE\"], metrics[\"RMSE\"], metrics[\"R2 Score\"]\n",
        "        ])\n",
        "\n",
        "# Convert to DataFrame\n",
        "comparison_df = pd.DataFrame(\n",
        "    comparison_data, columns=[\"Dataset\", \"Model\", \"MAE\", \"RMSE\", \"R2 Score\"]\n",
        ")\n",
        "\n",
        "# Display DataFrame\n",
        "print(comparison_df)\n",
        "\n",
        "# Save as CSV file (optional)\n",
        "comparison_df.to_csv(\"model_comparison_table.csv\", index=False)\n"
      ]
    },
    {
      "cell_type": "code",
      "execution_count": 32,
      "metadata": {
        "id": "4-64CRXykizq"
      },
      "outputs": [],
      "source": [
        "from google.colab import files\n",
        "comparison_df.to_csv(\"/content/drive/MyDrive/ML_Project_Dataset/Performance_Metrics/model_comparison_table.csv\", encoding = 'utf-8-sig')"
      ]
    },
    {
      "cell_type": "code",
      "execution_count": 35,
      "metadata": {
        "colab": {
          "base_uri": "https://localhost:8080/"
        },
        "id": "fr-AVf7cjxqV",
        "outputId": "212da9d2-882c-40ac-a0a4-7252cc40ae78"
      },
      "outputs": [
        {
          "name": "stderr",
          "output_type": "stream",
          "text": [
            "<ipython-input-35-f7d54c213575>:40: FutureWarning: \n",
            "\n",
            "Passing `palette` without assigning `hue` is deprecated and will be removed in v0.14.0. Assign the `x` variable to `hue` and set `legend=False` for the same effect.\n",
            "\n",
            "  sns.barplot(x=\"Model\", y=\"MAE\", data=dataset_df, ax=axes[0], palette=palette)\n",
            "<ipython-input-35-f7d54c213575>:42: UserWarning: set_ticklabels() should only be used with a fixed number of ticks, i.e. after set_ticks() or using a FixedLocator.\n",
            "  axes[0].set_xticklabels(dataset_df[\"Model\"], rotation=45, ha=\"right\")\n",
            "<ipython-input-35-f7d54c213575>:46: FutureWarning: \n",
            "\n",
            "Passing `palette` without assigning `hue` is deprecated and will be removed in v0.14.0. Assign the `x` variable to `hue` and set `legend=False` for the same effect.\n",
            "\n",
            "  sns.barplot(x=\"Model\", y=\"RMSE\", data=dataset_df, ax=axes[1], palette=palette)\n",
            "<ipython-input-35-f7d54c213575>:48: UserWarning: set_ticklabels() should only be used with a fixed number of ticks, i.e. after set_ticks() or using a FixedLocator.\n",
            "  axes[1].set_xticklabels(dataset_df[\"Model\"], rotation=45, ha=\"right\")\n",
            "<ipython-input-35-f7d54c213575>:52: FutureWarning: \n",
            "\n",
            "Passing `palette` without assigning `hue` is deprecated and will be removed in v0.14.0. Assign the `x` variable to `hue` and set `legend=False` for the same effect.\n",
            "\n",
            "  sns.barplot(x=\"Model\", y=\"R2 Score\", data=dataset_df, ax=axes[2], palette=palette)\n",
            "<ipython-input-35-f7d54c213575>:54: UserWarning: set_ticklabels() should only be used with a fixed number of ticks, i.e. after set_ticks() or using a FixedLocator.\n",
            "  axes[2].set_xticklabels(dataset_df[\"Model\"], rotation=45, ha=\"right\")\n"
          ]
        },
        {
          "name": "stdout",
          "output_type": "stream",
          "text": [
            "Saved Model Performance Plot: /content/drive/MyDrive/ML_Project_Dataset/Performance_Metrics/model_performance_knn_imputed.png\n"
          ]
        },
        {
          "name": "stderr",
          "output_type": "stream",
          "text": [
            "<ipython-input-35-f7d54c213575>:40: FutureWarning: \n",
            "\n",
            "Passing `palette` without assigning `hue` is deprecated and will be removed in v0.14.0. Assign the `x` variable to `hue` and set `legend=False` for the same effect.\n",
            "\n",
            "  sns.barplot(x=\"Model\", y=\"MAE\", data=dataset_df, ax=axes[0], palette=palette)\n",
            "<ipython-input-35-f7d54c213575>:42: UserWarning: set_ticklabels() should only be used with a fixed number of ticks, i.e. after set_ticks() or using a FixedLocator.\n",
            "  axes[0].set_xticklabels(dataset_df[\"Model\"], rotation=45, ha=\"right\")\n",
            "<ipython-input-35-f7d54c213575>:46: FutureWarning: \n",
            "\n",
            "Passing `palette` without assigning `hue` is deprecated and will be removed in v0.14.0. Assign the `x` variable to `hue` and set `legend=False` for the same effect.\n",
            "\n",
            "  sns.barplot(x=\"Model\", y=\"RMSE\", data=dataset_df, ax=axes[1], palette=palette)\n",
            "<ipython-input-35-f7d54c213575>:48: UserWarning: set_ticklabels() should only be used with a fixed number of ticks, i.e. after set_ticks() or using a FixedLocator.\n",
            "  axes[1].set_xticklabels(dataset_df[\"Model\"], rotation=45, ha=\"right\")\n",
            "<ipython-input-35-f7d54c213575>:52: FutureWarning: \n",
            "\n",
            "Passing `palette` without assigning `hue` is deprecated and will be removed in v0.14.0. Assign the `x` variable to `hue` and set `legend=False` for the same effect.\n",
            "\n",
            "  sns.barplot(x=\"Model\", y=\"R2 Score\", data=dataset_df, ax=axes[2], palette=palette)\n",
            "<ipython-input-35-f7d54c213575>:54: UserWarning: set_ticklabels() should only be used with a fixed number of ticks, i.e. after set_ticks() or using a FixedLocator.\n",
            "  axes[2].set_xticklabels(dataset_df[\"Model\"], rotation=45, ha=\"right\")\n"
          ]
        },
        {
          "name": "stdout",
          "output_type": "stream",
          "text": [
            "Saved Model Performance Plot: /content/drive/MyDrive/ML_Project_Dataset/Performance_Metrics/model_performance_imputed_interpolate.png\n"
          ]
        },
        {
          "name": "stderr",
          "output_type": "stream",
          "text": [
            "<ipython-input-35-f7d54c213575>:40: FutureWarning: \n",
            "\n",
            "Passing `palette` without assigning `hue` is deprecated and will be removed in v0.14.0. Assign the `x` variable to `hue` and set `legend=False` for the same effect.\n",
            "\n",
            "  sns.barplot(x=\"Model\", y=\"MAE\", data=dataset_df, ax=axes[0], palette=palette)\n",
            "<ipython-input-35-f7d54c213575>:42: UserWarning: set_ticklabels() should only be used with a fixed number of ticks, i.e. after set_ticks() or using a FixedLocator.\n",
            "  axes[0].set_xticklabels(dataset_df[\"Model\"], rotation=45, ha=\"right\")\n",
            "<ipython-input-35-f7d54c213575>:46: FutureWarning: \n",
            "\n",
            "Passing `palette` without assigning `hue` is deprecated and will be removed in v0.14.0. Assign the `x` variable to `hue` and set `legend=False` for the same effect.\n",
            "\n",
            "  sns.barplot(x=\"Model\", y=\"RMSE\", data=dataset_df, ax=axes[1], palette=palette)\n",
            "<ipython-input-35-f7d54c213575>:48: UserWarning: set_ticklabels() should only be used with a fixed number of ticks, i.e. after set_ticks() or using a FixedLocator.\n",
            "  axes[1].set_xticklabels(dataset_df[\"Model\"], rotation=45, ha=\"right\")\n",
            "<ipython-input-35-f7d54c213575>:52: FutureWarning: \n",
            "\n",
            "Passing `palette` without assigning `hue` is deprecated and will be removed in v0.14.0. Assign the `x` variable to `hue` and set `legend=False` for the same effect.\n",
            "\n",
            "  sns.barplot(x=\"Model\", y=\"R2 Score\", data=dataset_df, ax=axes[2], palette=palette)\n",
            "<ipython-input-35-f7d54c213575>:54: UserWarning: set_ticklabels() should only be used with a fixed number of ticks, i.e. after set_ticks() or using a FixedLocator.\n",
            "  axes[2].set_xticklabels(dataset_df[\"Model\"], rotation=45, ha=\"right\")\n"
          ]
        },
        {
          "name": "stdout",
          "output_type": "stream",
          "text": [
            "Saved Model Performance Plot: /content/drive/MyDrive/ML_Project_Dataset/Performance_Metrics/model_performance_imputed_MICE.png\n"
          ]
        },
        {
          "name": "stderr",
          "output_type": "stream",
          "text": [
            "<ipython-input-35-f7d54c213575>:40: FutureWarning: \n",
            "\n",
            "Passing `palette` without assigning `hue` is deprecated and will be removed in v0.14.0. Assign the `x` variable to `hue` and set `legend=False` for the same effect.\n",
            "\n",
            "  sns.barplot(x=\"Model\", y=\"MAE\", data=dataset_df, ax=axes[0], palette=palette)\n",
            "<ipython-input-35-f7d54c213575>:42: UserWarning: set_ticklabels() should only be used with a fixed number of ticks, i.e. after set_ticks() or using a FixedLocator.\n",
            "  axes[0].set_xticklabels(dataset_df[\"Model\"], rotation=45, ha=\"right\")\n",
            "<ipython-input-35-f7d54c213575>:46: FutureWarning: \n",
            "\n",
            "Passing `palette` without assigning `hue` is deprecated and will be removed in v0.14.0. Assign the `x` variable to `hue` and set `legend=False` for the same effect.\n",
            "\n",
            "  sns.barplot(x=\"Model\", y=\"RMSE\", data=dataset_df, ax=axes[1], palette=palette)\n",
            "<ipython-input-35-f7d54c213575>:48: UserWarning: set_ticklabels() should only be used with a fixed number of ticks, i.e. after set_ticks() or using a FixedLocator.\n",
            "  axes[1].set_xticklabels(dataset_df[\"Model\"], rotation=45, ha=\"right\")\n",
            "<ipython-input-35-f7d54c213575>:52: FutureWarning: \n",
            "\n",
            "Passing `palette` without assigning `hue` is deprecated and will be removed in v0.14.0. Assign the `x` variable to `hue` and set `legend=False` for the same effect.\n",
            "\n",
            "  sns.barplot(x=\"Model\", y=\"R2 Score\", data=dataset_df, ax=axes[2], palette=palette)\n",
            "<ipython-input-35-f7d54c213575>:54: UserWarning: set_ticklabels() should only be used with a fixed number of ticks, i.e. after set_ticks() or using a FixedLocator.\n",
            "  axes[2].set_xticklabels(dataset_df[\"Model\"], rotation=45, ha=\"right\")\n"
          ]
        },
        {
          "name": "stdout",
          "output_type": "stream",
          "text": [
            "Saved Model Performance Plot: /content/drive/MyDrive/ML_Project_Dataset/Performance_Metrics/model_performance_mean_athlete_dataset.png\n"
          ]
        },
        {
          "name": "stderr",
          "output_type": "stream",
          "text": [
            "<ipython-input-35-f7d54c213575>:40: FutureWarning: \n",
            "\n",
            "Passing `palette` without assigning `hue` is deprecated and will be removed in v0.14.0. Assign the `x` variable to `hue` and set `legend=False` for the same effect.\n",
            "\n",
            "  sns.barplot(x=\"Model\", y=\"MAE\", data=dataset_df, ax=axes[0], palette=palette)\n",
            "<ipython-input-35-f7d54c213575>:42: UserWarning: set_ticklabels() should only be used with a fixed number of ticks, i.e. after set_ticks() or using a FixedLocator.\n",
            "  axes[0].set_xticklabels(dataset_df[\"Model\"], rotation=45, ha=\"right\")\n",
            "<ipython-input-35-f7d54c213575>:46: FutureWarning: \n",
            "\n",
            "Passing `palette` without assigning `hue` is deprecated and will be removed in v0.14.0. Assign the `x` variable to `hue` and set `legend=False` for the same effect.\n",
            "\n",
            "  sns.barplot(x=\"Model\", y=\"RMSE\", data=dataset_df, ax=axes[1], palette=palette)\n",
            "<ipython-input-35-f7d54c213575>:48: UserWarning: set_ticklabels() should only be used with a fixed number of ticks, i.e. after set_ticks() or using a FixedLocator.\n",
            "  axes[1].set_xticklabels(dataset_df[\"Model\"], rotation=45, ha=\"right\")\n",
            "<ipython-input-35-f7d54c213575>:52: FutureWarning: \n",
            "\n",
            "Passing `palette` without assigning `hue` is deprecated and will be removed in v0.14.0. Assign the `x` variable to `hue` and set `legend=False` for the same effect.\n",
            "\n",
            "  sns.barplot(x=\"Model\", y=\"R2 Score\", data=dataset_df, ax=axes[2], palette=palette)\n",
            "<ipython-input-35-f7d54c213575>:54: UserWarning: set_ticklabels() should only be used with a fixed number of ticks, i.e. after set_ticks() or using a FixedLocator.\n",
            "  axes[2].set_xticklabels(dataset_df[\"Model\"], rotation=45, ha=\"right\")\n"
          ]
        },
        {
          "name": "stdout",
          "output_type": "stream",
          "text": [
            "Saved Model Performance Plot: /content/drive/MyDrive/ML_Project_Dataset/Performance_Metrics/model_performance_mode_athlete_dataset.png\n"
          ]
        },
        {
          "name": "stderr",
          "output_type": "stream",
          "text": [
            "<ipython-input-35-f7d54c213575>:40: FutureWarning: \n",
            "\n",
            "Passing `palette` without assigning `hue` is deprecated and will be removed in v0.14.0. Assign the `x` variable to `hue` and set `legend=False` for the same effect.\n",
            "\n",
            "  sns.barplot(x=\"Model\", y=\"MAE\", data=dataset_df, ax=axes[0], palette=palette)\n",
            "<ipython-input-35-f7d54c213575>:42: UserWarning: set_ticklabels() should only be used with a fixed number of ticks, i.e. after set_ticks() or using a FixedLocator.\n",
            "  axes[0].set_xticklabels(dataset_df[\"Model\"], rotation=45, ha=\"right\")\n",
            "<ipython-input-35-f7d54c213575>:46: FutureWarning: \n",
            "\n",
            "Passing `palette` without assigning `hue` is deprecated and will be removed in v0.14.0. Assign the `x` variable to `hue` and set `legend=False` for the same effect.\n",
            "\n",
            "  sns.barplot(x=\"Model\", y=\"RMSE\", data=dataset_df, ax=axes[1], palette=palette)\n",
            "<ipython-input-35-f7d54c213575>:48: UserWarning: set_ticklabels() should only be used with a fixed number of ticks, i.e. after set_ticks() or using a FixedLocator.\n",
            "  axes[1].set_xticklabels(dataset_df[\"Model\"], rotation=45, ha=\"right\")\n",
            "<ipython-input-35-f7d54c213575>:52: FutureWarning: \n",
            "\n",
            "Passing `palette` without assigning `hue` is deprecated and will be removed in v0.14.0. Assign the `x` variable to `hue` and set `legend=False` for the same effect.\n",
            "\n",
            "  sns.barplot(x=\"Model\", y=\"R2 Score\", data=dataset_df, ax=axes[2], palette=palette)\n",
            "<ipython-input-35-f7d54c213575>:54: UserWarning: set_ticklabels() should only be used with a fixed number of ticks, i.e. after set_ticks() or using a FixedLocator.\n",
            "  axes[2].set_xticklabels(dataset_df[\"Model\"], rotation=45, ha=\"right\")\n"
          ]
        },
        {
          "name": "stdout",
          "output_type": "stream",
          "text": [
            "Saved Model Performance Plot: /content/drive/MyDrive/ML_Project_Dataset/Performance_Metrics/model_performance_median_athlete_dataset.png\n"
          ]
        },
        {
          "name": "stderr",
          "output_type": "stream",
          "text": [
            "<ipython-input-35-f7d54c213575>:40: FutureWarning: \n",
            "\n",
            "Passing `palette` without assigning `hue` is deprecated and will be removed in v0.14.0. Assign the `x` variable to `hue` and set `legend=False` for the same effect.\n",
            "\n",
            "  sns.barplot(x=\"Model\", y=\"MAE\", data=dataset_df, ax=axes[0], palette=palette)\n",
            "<ipython-input-35-f7d54c213575>:42: UserWarning: set_ticklabels() should only be used with a fixed number of ticks, i.e. after set_ticks() or using a FixedLocator.\n",
            "  axes[0].set_xticklabels(dataset_df[\"Model\"], rotation=45, ha=\"right\")\n",
            "<ipython-input-35-f7d54c213575>:46: FutureWarning: \n",
            "\n",
            "Passing `palette` without assigning `hue` is deprecated and will be removed in v0.14.0. Assign the `x` variable to `hue` and set `legend=False` for the same effect.\n",
            "\n",
            "  sns.barplot(x=\"Model\", y=\"RMSE\", data=dataset_df, ax=axes[1], palette=palette)\n",
            "<ipython-input-35-f7d54c213575>:48: UserWarning: set_ticklabels() should only be used with a fixed number of ticks, i.e. after set_ticks() or using a FixedLocator.\n",
            "  axes[1].set_xticklabels(dataset_df[\"Model\"], rotation=45, ha=\"right\")\n",
            "<ipython-input-35-f7d54c213575>:52: FutureWarning: \n",
            "\n",
            "Passing `palette` without assigning `hue` is deprecated and will be removed in v0.14.0. Assign the `x` variable to `hue` and set `legend=False` for the same effect.\n",
            "\n",
            "  sns.barplot(x=\"Model\", y=\"R2 Score\", data=dataset_df, ax=axes[2], palette=palette)\n",
            "<ipython-input-35-f7d54c213575>:54: UserWarning: set_ticklabels() should only be used with a fixed number of ticks, i.e. after set_ticks() or using a FixedLocator.\n",
            "  axes[2].set_xticklabels(dataset_df[\"Model\"], rotation=45, ha=\"right\")\n"
          ]
        },
        {
          "name": "stdout",
          "output_type": "stream",
          "text": [
            "Saved Model Performance Plot: /content/drive/MyDrive/ML_Project_Dataset/Performance_Metrics/model_performance_em_imputed.png\n"
          ]
        }
      ],
      "source": [
        "import matplotlib.pyplot as plt\n",
        "import seaborn as sns\n",
        "import pandas as pd\n",
        "import os\n",
        "\n",
        "# Define save directory\n",
        "plot_save_dir = \"/content/drive/MyDrive/ML_Project_Dataset/Performance_Metrics/\"\n",
        "\n",
        "# Ensure the directory exists\n",
        "os.makedirs(plot_save_dir, exist_ok=True)\n",
        "\n",
        "# Load the dataset (replace with your actual dataframe if already loaded)\n",
        "metrics_df = pd.read_csv(\"model_comparison_table.csv\")\n",
        "\n",
        "# Set seaborn style\n",
        "sns.set_style(\"whitegrid\")\n",
        "\n",
        "# Get unique datasets\n",
        "datasets = metrics_df[\"Dataset\"].unique()\n",
        "\n",
        "# Define color palette\n",
        "palette = \"coolwarm\"\n",
        "\n",
        "# Function to add value labels on bars\n",
        "def add_value_labels(ax):\n",
        "    for p in ax.patches:\n",
        "        ax.annotate(f'{p.get_height():.4f}',  # Format value to 4 decimal places\n",
        "                    (p.get_x() + p.get_width() / 2., p.get_height()),\n",
        "                    ha='center', va='bottom', fontsize=10, fontweight='bold')\n",
        "\n",
        "# Iterate over each dataset and generate plots\n",
        "for dataset in datasets:\n",
        "    dataset_df = metrics_df[metrics_df[\"Dataset\"] == dataset]\n",
        "\n",
        "    # Define figure and axes\n",
        "    fig, axes = plt.subplots(1, 3, figsize=(18, 5))\n",
        "    fig.suptitle(f\"Model Performance for {dataset}\", fontsize=14, fontweight='bold')\n",
        "\n",
        "    # MAE plot\n",
        "    sns.barplot(x=\"Model\", y=\"MAE\", data=dataset_df, ax=axes[0], palette=palette)\n",
        "    axes[0].set_title(\"Mean Absolute Error (MAE)\")\n",
        "    axes[0].set_xticklabels(dataset_df[\"Model\"], rotation=45, ha=\"right\")\n",
        "    add_value_labels(axes[0])\n",
        "\n",
        "    # RMSE plot\n",
        "    sns.barplot(x=\"Model\", y=\"RMSE\", data=dataset_df, ax=axes[1], palette=palette)\n",
        "    axes[1].set_title(\"Root Mean Squared Error (RMSE)\")\n",
        "    axes[1].set_xticklabels(dataset_df[\"Model\"], rotation=45, ha=\"right\")\n",
        "    add_value_labels(axes[1])\n",
        "\n",
        "    # R² Score plot\n",
        "    sns.barplot(x=\"Model\", y=\"R2 Score\", data=dataset_df, ax=axes[2], palette=palette)\n",
        "    axes[2].set_title(\"R² Score (Higher is Better)\")\n",
        "    axes[2].set_xticklabels(dataset_df[\"Model\"], rotation=45, ha=\"right\")\n",
        "    add_value_labels(axes[2])\n",
        "\n",
        "    # Adjust layout\n",
        "    plt.tight_layout()\n",
        "\n",
        "    # Define save path\n",
        "    save_path = os.path.join(plot_save_dir, f\"model_performance_{dataset}.png\")\n",
        "\n",
        "    # Save the figure\n",
        "    plt.savefig(save_path, dpi=300, bbox_inches='tight')\n",
        "\n",
        "    # Close the figure to free memory\n",
        "    plt.close()\n",
        "\n",
        "    print(f\"Saved Model Performance Plot: {save_path}\")\n"
      ]
    },
    {
      "cell_type": "markdown",
      "metadata": {
        "id": "j_kMHGtwowWW"
      },
      "source": [
        "# Combined plot"
      ]
    },
    {
      "cell_type": "code",
      "execution_count": 37,
      "metadata": {
        "colab": {
          "base_uri": "https://localhost:8080/",
          "height": 499
        },
        "id": "ulhTYwQOonMa",
        "outputId": "a65050fd-d69a-4ad4-8767-42ced319fefb"
      },
      "outputs": [
        {
          "name": "stderr",
          "output_type": "stream",
          "text": [
            "<ipython-input-37-d60bf394e930>:45: UserWarning: set_ticklabels() should only be used with a fixed number of ticks, i.e. after set_ticks() or using a FixedLocator.\n",
            "  ax.set_xticklabels(ax.get_xticklabels(), rotation=45, ha=\"right\")\n",
            "<ipython-input-37-d60bf394e930>:45: UserWarning: set_ticklabels() should only be used with a fixed number of ticks, i.e. after set_ticks() or using a FixedLocator.\n",
            "  ax.set_xticklabels(ax.get_xticklabels(), rotation=45, ha=\"right\")\n",
            "<ipython-input-37-d60bf394e930>:45: UserWarning: set_ticklabels() should only be used with a fixed number of ticks, i.e. after set_ticks() or using a FixedLocator.\n",
            "  ax.set_xticklabels(ax.get_xticklabels(), rotation=45, ha=\"right\")\n"
          ]
        },
        {
          "data": {
            "text/plain": [
              "<Figure size 2000x600 with 0 Axes>"
            ]
          },
          "metadata": {},
          "output_type": "display_data"
        },
        {
          "data": {
            "image/png": "[encoded data removed]",
            "text/plain": [
              "<Figure size 2018.12x500 with 3 Axes>"
            ]
          },
          "metadata": {},
          "output_type": "display_data"
        },
        {
          "name": "stdout",
          "output_type": "stream",
          "text": [
            "Saved Combined Model Performance Plot: /content/drive/MyDrive/ML_Project_Dataset/combined_model_performance.png\n"
          ]
        }
      ],
      "source": [
        "import matplotlib.pyplot as plt\n",
        "import seaborn as sns\n",
        "import pandas as pd\n",
        "import os\n",
        "\n",
        "# Define save directory\n",
        "combine_plot_save_dir = \"/content/drive/MyDrive/ML_Project_Dataset/\"\n",
        "\n",
        "# Ensure the directory exists\n",
        "os.makedirs(plot_save_dir, exist_ok=True)\n",
        "\n",
        "# Load the dataset\n",
        "metrics_df = pd.read_csv(\"model_comparison_table.csv\")\n",
        "\n",
        "# Set seaborn style\n",
        "sns.set_style(\"whitegrid\")\n",
        "\n",
        "# Define color palette\n",
        "palette = \"coolwarm\"\n",
        "\n",
        "# Function to add value labels on bars\n",
        "def add_value_labels(ax):\n",
        "    for p in ax.patches:\n",
        "        ax.annotate(f'{p.get_height():.4f}',  # Format value to 4 decimal places\n",
        "                    (p.get_x() + p.get_width() / 2., p.get_height()),\n",
        "                    ha='center', va='bottom', fontsize=8, fontweight='bold')\n",
        "\n",
        "# Melt the dataframe to have a long-form dataset suitable for FacetGrid\n",
        "metrics_melted = metrics_df.melt(id_vars=[\"Dataset\", \"Model\"],\n",
        "                                 value_vars=[\"MAE\", \"RMSE\", \"R2 Score\"],\n",
        "                                 var_name=\"Metric\",\n",
        "                                 value_name=\"Value\")\n",
        "\n",
        "# Define figure size\n",
        "plt.figure(figsize=(20, 6))\n",
        "\n",
        "# Create the facet grid for multiple plots in one\n",
        "g = sns.catplot(data=metrics_melted, x=\"Model\", y=\"Value\", hue=\"Dataset\", col=\"Metric\",\n",
        "                kind=\"bar\", palette=palette, col_wrap=3, height=5, aspect=1.2)\n",
        "\n",
        "# Adjust labels and rotation\n",
        "g.set_titles(\"{col_name}\")\n",
        "g.set_axis_labels(\"Model\", \"Value\")\n",
        "for ax in g.axes.flat:\n",
        "    ax.set_xticklabels(ax.get_xticklabels(), rotation=45, ha=\"right\")\n",
        "    add_value_labels(ax)  # Add value labels to bars\n",
        "\n",
        "# Adjust layout\n",
        "plt.tight_layout()\n",
        "\n",
        "# Save the combined plot\n",
        "combined_plot_path = os.path.join(combine_plot_save_dir, \"combined_model_performance.png\")\n",
        "plt.savefig(combined_plot_path, dpi=300, bbox_inches='tight')\n",
        "\n",
        "\n",
        "plt.show()\n",
        "\n",
        "print(f\"Saved Combined Model Performance Plot: {combined_plot_path}\")\n"
      ]
    },
    {
      "cell_type": "code",
      "execution_count": 53,
      "metadata": {
        "colab": {
          "base_uri": "https://localhost:8080/",
          "height": 762
        },
        "id": "Lo_k5Qw7ovaB",
        "outputId": "e177d2ec-c103-4d68-be42-f6a36a7384ef"
      },
      "outputs": [
        {
          "name": "stderr",
          "output_type": "stream",
          "text": [
            "<ipython-input-53-de75265a7bb9>:32: UserWarning: The palette list has more values (8) than needed (7), which may not be intended.\n",
            "  sns.barplot(data=metrics_melted[metrics_melted[\"Metric\"] == metric],\n",
            "<ipython-input-53-de75265a7bb9>:32: UserWarning: The palette list has more values (8) than needed (7), which may not be intended.\n",
            "  sns.barplot(data=metrics_melted[metrics_melted[\"Metric\"] == metric],\n",
            "<ipython-input-53-de75265a7bb9>:32: UserWarning: The palette list has more values (8) than needed (7), which may not be intended.\n",
            "  sns.barplot(data=metrics_melted[metrics_melted[\"Metric\"] == metric],\n"
          ]
        },
        {
          "data": {
            "image/png": "[encoded data removed]",
            "text/plain": [
              "<Figure size 1800x800 with 3 Axes>"
            ]
          },
          "metadata": {},
          "output_type": "display_data"
        },
        {
          "name": "stdout",
          "output_type": "stream",
          "text": [
            "Saved Cleaned Model Performance Plot: /content/drive/MyDrive/ML_Project_Dataset/Performance_Metrics/cleaned_model_performance.png\n"
          ]
        }
      ],
      "source": [
        "import matplotlib.pyplot as plt\n",
        "import seaborn as sns\n",
        "import pandas as pd\n",
        "import os\n",
        "\n",
        "# Define save directory\n",
        "plot_save_dir = \"/content/drive/MyDrive/ML_Project_Dataset/Performance_Metrics/\"\n",
        "\n",
        "# Ensure the directory exists\n",
        "os.makedirs(plot_save_dir, exist_ok=True)\n",
        "\n",
        "# Load the dataset\n",
        "metrics_df = pd.read_csv(\"model_comparison_table.csv\")\n",
        "\n",
        "# Set seaborn style\n",
        "sns.set_style(\"whitegrid\")\n",
        "\n",
        "# Define color palette\n",
        "palette = sns.color_palette(\"Set2\")\n",
        "\n",
        "# Melt the dataframe to long format\n",
        "metrics_melted = metrics_df.melt(id_vars=[\"Dataset\", \"Model\"],\n",
        "                                 value_vars=[\"MAE\", \"RMSE\", \"R2 Score\"],\n",
        "                                 var_name=\"Metric\", value_name=\"Value\")\n",
        "\n",
        "# Create subplots\n",
        "fig, axes = plt.subplots(1, 3, figsize=(18, 8))  # Wider for better spacing\n",
        "metrics = [\"MAE\", \"RMSE\", \"R2 Score\"]\n",
        "\n",
        "for i, metric in enumerate(metrics):\n",
        "    ax = axes[i]\n",
        "    sns.barplot(data=metrics_melted[metrics_melted[\"Metric\"] == metric],\n",
        "                x=\"Model\", y=\"Value\", hue=\"Dataset\", ax=ax, palette=palette)\n",
        "\n",
        "    ax.set_title(f\"{metric} Comparison\", fontsize=14, fontweight='bold')\n",
        "    ax.set_xlabel(\"Model\", fontsize=12)\n",
        "    ax.set_ylabel(\"Value\", fontsize=12)\n",
        "    ax.tick_params(axis=\"x\", rotation=30)  # Rotate for better visibility\n",
        "    # ax.legend(loc=\"upper left\", fontsize=10)  # Move legend for clarity\n",
        "    ax.legend(loc='upper left', bbox_to_anchor=(1, 1))\n",
        "\n",
        "\n",
        "    # Add value labels\n",
        "    for p in ax.patches:\n",
        "        if p.get_height() > 0:  # Avoid negative bars cluttering\n",
        "            ax.annotate(f'{p.get_height():.4f}',\n",
        "                        (p.get_x() + p.get_width() / 2., p.get_height()),\n",
        "                        ha='center', va='bottom', fontsize=8, fontweight='bold', rotation = 90)\n",
        "\n",
        "# Adjust layout\n",
        "# Create one legend for the entire figure\n",
        "# fig.legend(loc='upper center', bbox_to_anchor=(0.5, 1.05), ncol=4)\n",
        "plt.tight_layout()\n",
        "\n",
        "# Save the plot\n",
        "combined_plot_path = os.path.join(plot_save_dir, \"cleaned_model_performance.png\")\n",
        "plt.savefig(combined_plot_path, dpi=300, bbox_inches='tight')\n",
        "\n",
        "# Show plot\n",
        "plt.show()\n",
        "\n",
        "print(f\"Saved Cleaned Model Performance Plot: {combined_plot_path}\")\n"
      ]
    }
  ],
  "metadata": {
    "colab": {
      "provenance": []
    },
    "kernelspec": {
      "display_name": "Python 3",
      "name": "python3"
    },
    "language_info": {
      "name": "python"
    }
  },
  "nbformat": 4,
  "nbformat_minor": 0
}
